{
 "cells": [
  {
   "cell_type": "markdown",
   "metadata": {},
   "source": [
    "# Capstone EDA\n",
    "\n",
    "## Problem statement, goals and success criteria\n",
    "\n",
    "In the 1940s, Lego created the first plastic brick that allows children and adults to create models that previously can only exist in their minds. Since then Lego has expanded and developed many different lines and variations of the plastic bricks to provide more and better choice that suit different customers. It would be interesting for both retailers and hobbyist to find out what factors drive the price of Lego sets. It would also be useful for them to understand what might cause a Lego set to be desirable and collectable which in other words is a good investment. \n",
    "\n",
    "There are two major goals for this project. The first is to use various data and features to predict the price of a Lego set. It is also important to determine the accuracy and methods for such determination. This is because one can utilise either regression techniques or classification technique. The second goal would be to successfully come up with a metric to measure how collectable a Lego set is and be able to, again using the available data, predict which Lego sets are desirable for collectors.\n",
    "\n",
    "The success criteria for the project regarding to the first goal is to be able to\n",
    "- predict price of a Lego set within 15% of its manufacturer suggested retail price (MSRP)\n",
    "The success criteria for the project regarding to the second goal is to be able to\n",
    "- define a metric to measure how desirable a Lego set is\n",
    "- be able to classify Lego sets into more desirable/less desirable and beating the baseline accuracy (which depends on the definition of the metric)\n",
    "\n",
    "\n",
    "## Proposed methods\n",
    "\n",
    "Since the combined data set can be of a large size, feature selection is very important. The followings are possible approach to select the best features for the analysis\n",
    "\n",
    "- Use sklearn RFECV to select features as a top down approach\n",
    "- Examine the correlation coefficient to pick features for predictions\n",
    "- Randomly pick features (Although this is not the best approach for a single regression model, it could be effective if an ensemble method is used) \n",
    "- Carry Out a Principal Component Analysis and depends on the result choose a subset of principal components as prediction features\n",
    "- Use regularised methods in predictions (especially l1 regularisation when features can be eliminated).\n",
    "\n",
    "\n",
    "Since the feature space is large and complicated, we do not know which prediction methods would better suit the analysis. Therefore it is proposed that various methods should be tried and evaluated. For price predictions, these includes (but not limited to):\n",
    "- Linear regression (and it's regualrised counterparts i.e. Lasso and Ridge)\n",
    "- Polynomial regression\n",
    "- kNN regressor\n",
    "- Decision Tree regressor (and depends on the result, more investigations on the use of ensemble trees regressors could be possible)\n",
    "\n",
    "For the classification of desirable lego sets:\n",
    "- kNN classifier\n",
    "- Logistic regression classifier\n",
    "- Linear Discriminant Analysis\n",
    "- Support Vector Machine classifier\n",
    "- Decision Tree classifier and its ensemble counterparts (e.g. Random Forest, Extra Trees and various boosting methods)\n",
    "\n",
    "The metrics for regression analysis would be the Mean Squared Error. The metrics for classification would be its prediction accuracy.\n",
    "\n",
    "## Cleaning of the Lego dataset"
   ]
  },
  {
   "cell_type": "code",
   "execution_count": 1,
   "metadata": {
    "collapsed": true
   },
   "outputs": [],
   "source": [
    "import pandas as pd\n",
    "import numpy as np\n",
    "import matplotlib.pyplot as plt\n",
    "import seaborn as sns\n",
    "from sqlalchemy import create_engine\n",
    "from __future__ import division\n",
    "%matplotlib inline"
   ]
  },
  {
   "cell_type": "code",
   "execution_count": 3,
   "metadata": {
    "collapsed": false
   },
   "outputs": [
    {
     "data": {
      "text/html": [
       "<div>\n",
       "<table border=\"1\" class=\"dataframe\">\n",
       "  <thead>\n",
       "    <tr style=\"text-align: right;\">\n",
       "      <th></th>\n",
       "      <th>Item_Number</th>\n",
       "      <th>Name</th>\n",
       "      <th>Year</th>\n",
       "      <th>Theme</th>\n",
       "      <th>Subtheme</th>\n",
       "      <th>Pieces</th>\n",
       "      <th>Minifigures</th>\n",
       "      <th>Image_URL</th>\n",
       "      <th>GBP_MSRP</th>\n",
       "      <th>USD_MSRP</th>\n",
       "      <th>CAD_MSRP</th>\n",
       "      <th>EUR_MSRP</th>\n",
       "      <th>Packaging</th>\n",
       "      <th>Availability</th>\n",
       "      <th>wanted</th>\n",
       "      <th>owned</th>\n",
       "      <th>rating</th>\n",
       "      <th>theme_grp</th>\n",
       "      <th>review_num</th>\n",
       "      <th>query_id</th>\n",
       "    </tr>\n",
       "  </thead>\n",
       "  <tbody>\n",
       "    <tr>\n",
       "      <th>0</th>\n",
       "      <td>10246</td>\n",
       "      <td>Detective's Office</td>\n",
       "      <td>2015</td>\n",
       "      <td>Advanced Models</td>\n",
       "      <td>Modular Buildings</td>\n",
       "      <td>2262.0</td>\n",
       "      <td>6.0</td>\n",
       "      <td>http://images.brickset.com/sets/images/10246-1...</td>\n",
       "      <td>132.99</td>\n",
       "      <td>159.99</td>\n",
       "      <td>199.99</td>\n",
       "      <td>149.99</td>\n",
       "      <td>Box</td>\n",
       "      <td>Retail - limited</td>\n",
       "      <td>5008</td>\n",
       "      <td>10155</td>\n",
       "      <td>4.75</td>\n",
       "      <td>Model making</td>\n",
       "      <td>4</td>\n",
       "      <td>10246-1</td>\n",
       "    </tr>\n",
       "    <tr>\n",
       "      <th>1</th>\n",
       "      <td>10247</td>\n",
       "      <td>Ferris Wheel</td>\n",
       "      <td>2015</td>\n",
       "      <td>Advanced Models</td>\n",
       "      <td>Fairground</td>\n",
       "      <td>2464.0</td>\n",
       "      <td>10.0</td>\n",
       "      <td>http://images.brickset.com/sets/images/10247-1...</td>\n",
       "      <td>149.99</td>\n",
       "      <td>199.99</td>\n",
       "      <td>229.99</td>\n",
       "      <td>179.99</td>\n",
       "      <td>Box</td>\n",
       "      <td>Retail - limited</td>\n",
       "      <td>3219</td>\n",
       "      <td>4807</td>\n",
       "      <td>5</td>\n",
       "      <td>Model making</td>\n",
       "      <td>3</td>\n",
       "      <td>10247-1</td>\n",
       "    </tr>\n",
       "    <tr>\n",
       "      <th>2</th>\n",
       "      <td>10248</td>\n",
       "      <td>Ferrari F40</td>\n",
       "      <td>2015</td>\n",
       "      <td>Advanced Models</td>\n",
       "      <td>Vehicles</td>\n",
       "      <td>1158.0</td>\n",
       "      <td>NaN</td>\n",
       "      <td>http://images.brickset.com/sets/images/10248-1...</td>\n",
       "      <td>69.99</td>\n",
       "      <td>99.99</td>\n",
       "      <td>119.99</td>\n",
       "      <td>89.99</td>\n",
       "      <td>Box</td>\n",
       "      <td>LEGO exclusive</td>\n",
       "      <td>2030</td>\n",
       "      <td>3943</td>\n",
       "      <td>5</td>\n",
       "      <td>Model making</td>\n",
       "      <td>4</td>\n",
       "      <td>10248-1</td>\n",
       "    </tr>\n",
       "    <tr>\n",
       "      <th>3</th>\n",
       "      <td>10249</td>\n",
       "      <td>Toy Shop</td>\n",
       "      <td>2015</td>\n",
       "      <td>Advanced Models</td>\n",
       "      <td>Winter Village</td>\n",
       "      <td>898.0</td>\n",
       "      <td>NaN</td>\n",
       "      <td>http://images.brickset.com/sets/images/10249-1...</td>\n",
       "      <td>59.99</td>\n",
       "      <td>79.99</td>\n",
       "      <td>99.99</td>\n",
       "      <td>69.99</td>\n",
       "      <td>Box</td>\n",
       "      <td>LEGO exclusive</td>\n",
       "      <td>2046</td>\n",
       "      <td>4794</td>\n",
       "      <td>4</td>\n",
       "      <td>Model making</td>\n",
       "      <td>1</td>\n",
       "      <td>10249-1</td>\n",
       "    </tr>\n",
       "    <tr>\n",
       "      <th>4</th>\n",
       "      <td>10581</td>\n",
       "      <td>Ducks</td>\n",
       "      <td>2015</td>\n",
       "      <td>Duplo</td>\n",
       "      <td>Forest Animals</td>\n",
       "      <td>13.0</td>\n",
       "      <td>1.0</td>\n",
       "      <td>http://images.brickset.com/sets/images/10581-1...</td>\n",
       "      <td>9.99</td>\n",
       "      <td>9.99</td>\n",
       "      <td>12.99</td>\n",
       "      <td>9.99</td>\n",
       "      <td>Box</td>\n",
       "      <td>Retail</td>\n",
       "      <td>117</td>\n",
       "      <td>444</td>\n",
       "      <td>0</td>\n",
       "      <td>Pre-school</td>\n",
       "      <td>0</td>\n",
       "      <td>10581-1</td>\n",
       "    </tr>\n",
       "  </tbody>\n",
       "</table>\n",
       "</div>"
      ],
      "text/plain": [
       "  Item_Number                Name  Year            Theme           Subtheme  \\\n",
       "0       10246  Detective's Office  2015  Advanced Models  Modular Buildings   \n",
       "1       10247        Ferris Wheel  2015  Advanced Models         Fairground   \n",
       "2       10248         Ferrari F40  2015  Advanced Models           Vehicles   \n",
       "3       10249            Toy Shop  2015  Advanced Models     Winter Village   \n",
       "4       10581               Ducks  2015            Duplo     Forest Animals   \n",
       "\n",
       "   Pieces  Minifigures                                          Image_URL  \\\n",
       "0  2262.0          6.0  http://images.brickset.com/sets/images/10246-1...   \n",
       "1  2464.0         10.0  http://images.brickset.com/sets/images/10247-1...   \n",
       "2  1158.0          NaN  http://images.brickset.com/sets/images/10248-1...   \n",
       "3   898.0          NaN  http://images.brickset.com/sets/images/10249-1...   \n",
       "4    13.0          1.0  http://images.brickset.com/sets/images/10581-1...   \n",
       "\n",
       "  GBP_MSRP USD_MSRP CAD_MSRP EUR_MSRP Packaging      Availability wanted  \\\n",
       "0   132.99   159.99   199.99   149.99       Box  Retail - limited   5008   \n",
       "1   149.99   199.99   229.99   179.99       Box  Retail - limited   3219   \n",
       "2    69.99    99.99   119.99    89.99       Box    LEGO exclusive   2030   \n",
       "3    59.99    79.99    99.99    69.99       Box    LEGO exclusive   2046   \n",
       "4     9.99     9.99    12.99     9.99       Box            Retail    117   \n",
       "\n",
       "   owned rating     theme_grp review_num query_id  \n",
       "0  10155   4.75  Model making          4  10246-1  \n",
       "1   4807      5  Model making          3  10247-1  \n",
       "2   3943      5  Model making          4  10248-1  \n",
       "3   4794      4  Model making          1  10249-1  \n",
       "4    444      0    Pre-school          0  10581-1  "
      ]
     },
     "execution_count": 3,
     "metadata": {},
     "output_type": "execute_result"
    }
   ],
   "source": [
    "engine = create_engine('postgresql://localhost/capstone')\n",
    "lego = pd.read_sql('SELECT * FROM lego', engine)\n",
    "lego.head()"
   ]
  },
  {
   "cell_type": "code",
   "execution_count": 3,
   "metadata": {
    "collapsed": false
   },
   "outputs": [
    {
     "name": "stdout",
     "output_type": "stream",
     "text": [
      "<class 'pandas.core.frame.DataFrame'>\n",
      "RangeIndex: 6172 entries, 0 to 6171\n",
      "Data columns (total 20 columns):\n",
      "Item_Number     6172 non-null object\n",
      "Name            6172 non-null object\n",
      "Year            6172 non-null int64\n",
      "Theme           6172 non-null object\n",
      "Subtheme        3966 non-null object\n",
      "Pieces          6060 non-null float64\n",
      "Minifigures     3500 non-null float64\n",
      "Image_URL       6172 non-null object\n",
      "GBP_MSRP        4215 non-null object\n",
      "USD_MSRP        5800 non-null object\n",
      "CAD_MSRP        1987 non-null object\n",
      "EUR_MSRP        1800 non-null object\n",
      "Packaging       6172 non-null object\n",
      "Availability    6172 non-null object\n",
      "wanted          6172 non-null object\n",
      "owned           6172 non-null object\n",
      "rating          6172 non-null object\n",
      "theme_grp       6172 non-null object\n",
      "review_num      6172 non-null object\n",
      "query_id        6172 non-null object\n",
      "dtypes: float64(2), int64(1), object(17)\n",
      "memory usage: 964.4+ KB\n"
     ]
    }
   ],
   "source": [
    "lego.info()"
   ]
  },
  {
   "cell_type": "markdown",
   "metadata": {},
   "source": [
    "Also mentioned in the previous part of gathering data, it is apparent that the lego data frame has got quite a few missing values. Therefore the upcoming procedures will try to clean the data and make it ready for analysis.\n",
    "\n",
    "### Subtheme\n",
    "\n",
    "Lego sets can have more than 1 theme and this is denoted in the Subtheme column. However not everyset has a subtheme which is reflected in the data. However it would make analysis difficult if they are left to be 'NaN's hence they will be filled with the string 'No_Subtheme'."
   ]
  },
  {
   "cell_type": "code",
   "execution_count": 4,
   "metadata": {
    "collapsed": true
   },
   "outputs": [],
   "source": [
    "lego.Subtheme = lego.Subtheme.fillna('No_Subtheme')"
   ]
  },
  {
   "cell_type": "markdown",
   "metadata": {},
   "source": [
    "### Pieces\n",
    "\n",
    "There are a few instances with missing pieces information. It is because: \n",
    "- They are virtual products\n",
    "- Number of pieces are difficult to define\n",
    "- No information available\n",
    "\n",
    "And since these products make up a small part of the whole dataset it is decided they are to be dropped."
   ]
  },
  {
   "cell_type": "code",
   "execution_count": 5,
   "metadata": {
    "collapsed": false
   },
   "outputs": [],
   "source": [
    "lego = lego[lego.Pieces.notnull()]"
   ]
  },
  {
   "cell_type": "markdown",
   "metadata": {},
   "source": [
    "### Minifigures\n",
    "\n",
    "Lego are renouned for their huge variaty of minifigures. However not every sets include them. For example the Technic series which are models of various machines usually have no minifigures included. It is believed that the 'NaN' values in the minifigures column are actually 0s. Therefore they will be filled accordingly."
   ]
  },
  {
   "cell_type": "code",
   "execution_count": 6,
   "metadata": {
    "collapsed": true
   },
   "outputs": [],
   "source": [
    "lego.Minifigures = lego.Minifigures.fillna(0)"
   ]
  },
  {
   "cell_type": "markdown",
   "metadata": {},
   "source": [
    "### MSRP\n",
    "\n",
    "There are 4 currencies for MSRP figures. They are USD, GBP, CAD and EUR. However as a target for regression analysis, we do not need that many. Therefore all values will be changed to USD for a better comparison. "
   ]
  },
  {
   "cell_type": "code",
   "execution_count": 7,
   "metadata": {
    "collapsed": false
   },
   "outputs": [],
   "source": [
    "lego.reset_index(drop=True,inplace=True)"
   ]
  },
  {
   "cell_type": "code",
   "execution_count": 32,
   "metadata": {
    "collapsed": false
   },
   "outputs": [],
   "source": [
    "for i in range(len(lego)):\n",
    "    usd = lego.ix[i,'USD_MSRP']\n",
    "    gbp = lego.ix[i,'GBP_MSRP']\n",
    "    gbp_usd = 1.27\n",
    "    cad = lego.ix[i,'CAD_MSRP']\n",
    "    cad_usd = 0.75\n",
    "    eur = lego.ix[i,'EUR_MSRP']\n",
    "    eur_usd = 1.07\n",
    "    if usd != None:\n",
    "        pass\n",
    "    elif (gbp!=None): \n",
    "        lego.ix[i,'USD_MSRP'] = float(gbp)*gbp_usd\n",
    "    elif (eur!=None): \n",
    "        lego.ix[i,'USD_MSRP'] = float(eur)*eur_usd\n",
    "    elif (cad!=None): \n",
    "        lego.ix[i,'USD_MSRP'] = float(cad)*cad_usd\n",
    "    else:\n",
    "        pass"
   ]
  },
  {
   "cell_type": "code",
   "execution_count": 31,
   "metadata": {
    "collapsed": false
   },
   "outputs": [
    {
     "name": "stdout",
     "output_type": "stream",
     "text": [
      "<class 'pandas.core.frame.DataFrame'>\n",
      "RangeIndex: 6060 entries, 0 to 6059\n",
      "Data columns (total 20 columns):\n",
      "Item_Number     6060 non-null object\n",
      "Name            6060 non-null object\n",
      "Year            6060 non-null int64\n",
      "Theme           6060 non-null object\n",
      "Subtheme        6060 non-null object\n",
      "Pieces          6060 non-null float64\n",
      "Minifigures     6060 non-null float64\n",
      "Image_URL       6060 non-null object\n",
      "GBP_MSRP        4118 non-null object\n",
      "USD_MSRP        6043 non-null object\n",
      "CAD_MSRP        1951 non-null object\n",
      "EUR_MSRP        1765 non-null object\n",
      "Packaging       6060 non-null object\n",
      "Availability    6060 non-null object\n",
      "wanted          6060 non-null object\n",
      "owned           6060 non-null object\n",
      "rating          6060 non-null object\n",
      "theme_grp       6060 non-null object\n",
      "review_num      6060 non-null object\n",
      "query_id        6060 non-null object\n",
      "dtypes: float64(2), int64(1), object(17)\n",
      "memory usage: 946.9+ KB\n"
     ]
    }
   ],
   "source": [
    "lego.info()"
   ]
  },
  {
   "cell_type": "markdown",
   "metadata": {},
   "source": [
    "By looping through the data frame most of this USD MSRP missing values are filled. However there are some that has no price information for every MSRP columns. Therefore they will have to be dropped. Together with them, the MSRP columns for GBP,CAD and EUR will also be dropped"
   ]
  },
  {
   "cell_type": "code",
   "execution_count": 34,
   "metadata": {
    "collapsed": true
   },
   "outputs": [],
   "source": [
    "lego = lego.drop(['GBP_MSRP','CAD_MSRP','EUR_MSRP'],axis=1)"
   ]
  },
  {
   "cell_type": "code",
   "execution_count": 36,
   "metadata": {
    "collapsed": false
   },
   "outputs": [],
   "source": [
    "lego = lego.dropna()"
   ]
  },
  {
   "cell_type": "code",
   "execution_count": 37,
   "metadata": {
    "collapsed": false
   },
   "outputs": [
    {
     "name": "stdout",
     "output_type": "stream",
     "text": [
      "<class 'pandas.core.frame.DataFrame'>\n",
      "Int64Index: 6043 entries, 0 to 6059\n",
      "Data columns (total 17 columns):\n",
      "Item_Number     6043 non-null object\n",
      "Name            6043 non-null object\n",
      "Year            6043 non-null int64\n",
      "Theme           6043 non-null object\n",
      "Subtheme        6043 non-null object\n",
      "Pieces          6043 non-null float64\n",
      "Minifigures     6043 non-null float64\n",
      "Image_URL       6043 non-null object\n",
      "USD_MSRP        6043 non-null object\n",
      "Packaging       6043 non-null object\n",
      "Availability    6043 non-null object\n",
      "wanted          6043 non-null object\n",
      "owned           6043 non-null object\n",
      "rating          6043 non-null object\n",
      "theme_grp       6043 non-null object\n",
      "review_num      6043 non-null object\n",
      "query_id        6043 non-null object\n",
      "dtypes: float64(2), int64(1), object(14)\n",
      "memory usage: 849.8+ KB\n"
     ]
    }
   ],
   "source": [
    "lego.info()"
   ]
  },
  {
   "cell_type": "code",
   "execution_count": 47,
   "metadata": {
    "collapsed": true
   },
   "outputs": [],
   "source": [
    "lego.to_sql('lego_cleaned',engine,index=False)"
   ]
  },
  {
   "cell_type": "markdown",
   "metadata": {},
   "source": [
    "## EDA of Lego data set\n",
    "\n",
    "### Item Numbers and Names\n",
    "\n",
    "These columns are unique and would add little value even if visulisations are applied\n",
    "\n",
    "### Year\n",
    "\n",
    "The dataset contains records for Lego release fron 1975. It would be intresting to see the distribution amongst those years."
   ]
  },
  {
   "cell_type": "code",
   "execution_count": 46,
   "metadata": {
    "collapsed": false
   },
   "outputs": [
    {
     "name": "stdout",
     "output_type": "stream",
     "text": [
      "1971\n",
      "2015\n"
     ]
    },
    {
     "data": {
      "image/png": "[encoded data removed]",
      "text/plain": [
       "<matplotlib.figure.Figure at 0x11924e810>"
      ]
     },
     "metadata": {},
     "output_type": "display_data"
    }
   ],
   "source": [
    "print lego.Year.min()\n",
    "print lego.Year.max()\n",
    "fig = plt.figure(figsize=(10,7))\n",
    "ax = fig.add_subplot(111)\n",
    "lego.Year.hist(color='midnightblue', alpha=.7,ax=ax,bins=np.linspace(lego.Year.min(),lego.Year.max(),lego.Year.max()-lego.Year.min()+1))\n",
    "ax.set(title='Number of Lego released by year', xlabel='Year', ylabel='Count')\n",
    "plt.show()"
   ]
  },
  {
   "cell_type": "markdown",
   "metadata": {},
   "source": [
    "It can be seen that Lego has really rampped up their production through out the years. The most apparent drop in production would be around 2007 and 2008 when the financial crisis hit. It is worth noting that this plot does not show production number directly, it shows the variety of products released that year. However it is very likely for comapnies to expand their business in terms of production and variety in the same time when the economy is good. Therefore it would be a nice reference to look at."
   ]
  },
  {
   "cell_type": "markdown",
   "metadata": {},
   "source": [
    "### Themes"
   ]
  },
  {
   "cell_type": "code",
   "execution_count": 49,
   "metadata": {
    "collapsed": false
   },
   "outputs": [
    {
     "data": {
      "text/plain": [
       "115"
      ]
     },
     "execution_count": 49,
     "metadata": {},
     "output_type": "execute_result"
    }
   ],
   "source": [
    "len(lego.Theme.value_counts())"
   ]
  },
  {
   "cell_type": "markdown",
   "metadata": {},
   "source": [
    "There are a total of 115 unique themes in the data set. It would be too much to display all of them. Therefore below shows a plot of the top 20 themes. It is worth noting that the top 20 themes have accounted for over 66% of all the data entries."
   ]
  },
  {
   "cell_type": "code",
   "execution_count": 88,
   "metadata": {
    "collapsed": false
   },
   "outputs": [
    {
     "name": "stdout",
     "output_type": "stream",
     "text": [
      "0.666721826907\n"
     ]
    },
    {
     "data": {
      "image/png": "[encoded data removed]",
      "text/plain": [
       "<matplotlib.figure.Figure at 0x1196ee890>"
      ]
     },
     "metadata": {},
     "output_type": "display_data"
    }
   ],
   "source": [
    "print sum(lego.Theme.value_counts()[:20].values)/len(lego)\n",
    "fig = plt.figure(figsize=(10,7))\n",
    "ax = fig.add_subplot(111)\n",
    "lego.Theme.value_counts()[:20].plot(kind='barh', alpha=.7,ax=ax, color='midnightblue')\n",
    "ax.set(title='Top 20 Lego Theme', xlabel='Counts', ylabel='Theme')\n",
    "plt.show()"
   ]
  },
  {
   "cell_type": "code",
   "execution_count": 69,
   "metadata": {
    "collapsed": false
   },
   "outputs": [],
   "source": [
    "theme_index = lego.Theme.value_counts()[:20].index.tolist()\n",
    "theme_index = [str(i) for i in theme_index]\n",
    "theme_pivot = pd.pivot_table(lego, index=['Theme'], values=['Year'], aggfunc=[np.min,np.max])\n",
    "theme_year = theme_pivot.loc[theme_index]\n",
    "c = theme_year.amax - theme_year.amin"
   ]
  },
  {
   "cell_type": "markdown",
   "metadata": {},
   "source": [
    "Having understand which themes have the most number of products, it would be good to see the number of years that the theme was actually in production. This is because naturally if the theme has been in production longer, it is more likely that it would have a higher number of products. If this is the case for every theme, the shape of the \"production years\" plot would be similar to the above plot."
   ]
  },
  {
   "cell_type": "code",
   "execution_count": 95,
   "metadata": {
    "collapsed": false
   },
   "outputs": [
    {
     "data": {
      "image/png": "[encoded data removed]",
      "text/plain": [
       "<matplotlib.figure.Figure at 0x118e7b110>"
      ]
     },
     "metadata": {},
     "output_type": "display_data"
    }
   ],
   "source": [
    "fig = plt.figure(figsize=(10,7))\n",
    "ax = fig.add_subplot(111)\n",
    "c.plot(kind='barh', alpha=.7,ax=ax, color='crimson')\n",
    "ax.set(title='Years of production for the 20 top saling themes', xlabel='Years', ylabel='Theme')\n",
    "ax.legend_.remove()\n",
    "plt.show()"
   ]
  },
  {
   "cell_type": "markdown",
   "metadata": {},
   "source": [
    "It is immediately obvious that the shape of the plot is not as expected for every theme. Some themes have existed for long but the number of products are fewer than the other newer lines. For example the Space theme has been around for about 35 years but it has less products comparing to Collectable Minifigures. Duplo however has been the longest lasting theme yet as expected."
   ]
  },
  {
   "cell_type": "markdown",
   "metadata": {},
   "source": [
    "### Subthemes\n",
    "\n",
    "A similar approach can be taken in the analysis of sub themes"
   ]
  },
  {
   "cell_type": "code",
   "execution_count": 96,
   "metadata": {
    "collapsed": false
   },
   "outputs": [
    {
     "data": {
      "text/plain": [
       "353"
      ]
     },
     "execution_count": 96,
     "metadata": {},
     "output_type": "execute_result"
    }
   ],
   "source": [
    "len(lego.Subtheme.value_counts())"
   ]
  },
  {
   "cell_type": "code",
   "execution_count": 101,
   "metadata": {
    "collapsed": false
   },
   "outputs": [
    {
     "name": "stdout",
     "output_type": "stream",
     "text": [
      "0.172430911799\n"
     ]
    },
    {
     "data": {
      "image/png": "[encoded data removed]",
      "text/plain": [
       "<matplotlib.figure.Figure at 0x11b867210>"
      ]
     },
     "metadata": {},
     "output_type": "display_data"
    }
   ],
   "source": [
    "print sum(lego.Subtheme.value_counts()[1:21].values)/len(lego)\n",
    "fig = plt.figure(figsize=(10,7))\n",
    "ax = fig.add_subplot(111)\n",
    "lego.Subtheme.value_counts()[1:21].plot(kind='barh', alpha=.7,ax=ax, color='midnightblue')\n",
    "ax.set(title='Top 20 Lego Sub Theme', xlabel='Counts', ylabel='Theme')\n",
    "plt.show()"
   ]
  },
  {
   "cell_type": "markdown",
   "metadata": {},
   "source": [
    "From the above information we know that there are over 300 subthemes and each sub themes has less than 85 entries. Therefore each sub theme accounts for a very small part of the data set. The difference between sub themes are relatively small too. Therefore it is decided that the production years plot is not necessary."
   ]
  },
  {
   "cell_type": "markdown",
   "metadata": {},
   "source": [
    "### Pieces"
   ]
  },
  {
   "cell_type": "code",
   "execution_count": 102,
   "metadata": {
    "collapsed": false
   },
   "outputs": [
    {
     "data": {
      "image/png": "[encoded data removed]",
      "text/plain": [
       "<matplotlib.figure.Figure at 0x11b1530d0>"
      ]
     },
     "metadata": {},
     "output_type": "display_data"
    },
    {
     "name": "stdout",
     "output_type": "stream",
     "text": [
      "Maximum number of pieces:  5922.0\n",
      "Minimum number of pieces:  0.0\n",
      "Median number of pieces:  82.0\n"
     ]
    }
   ],
   "source": [
    "fig = plt.figure(figsize=(10,7))\n",
    "ax = fig.add_subplot(111)\n",
    "lego.Pieces.hist(color='midnightblue', alpha=.7,ax=ax, bins=50)\n",
    "ax.set(title='Number of pieces', xlabel='Number of pieces', ylabel='Count')\n",
    "plt.show()\n",
    "print 'Maximum number of pieces: ',lego.Pieces.max()\n",
    "print 'Minimum number of pieces: ',lego.Pieces.min()\n",
    "print 'Median number of pieces: ',lego.Pieces.median()"
   ]
  },
  {
   "cell_type": "markdown",
   "metadata": {},
   "source": [
    "The maximum number of pieces in a set up to year 2015 is 5922 and the minimum is 0. It is not reasonable for a set/item to have 0 pieces so those items would receive further investigations. The shape of the plot clearly demonstrates that the distribution is heavily skewed positively. With a median peice of 83, we know that over half of the data entries have pieces less than 100. In order to investigate deeper, a zoomed in version of the distribution will be plotted with a range of 0 - 500 pieces."
   ]
  },
  {
   "cell_type": "code",
   "execution_count": 118,
   "metadata": {
    "collapsed": false
   },
   "outputs": [
    {
     "data": {
      "image/png": "[encoded data removed]",
      "text/plain": [
       "<matplotlib.figure.Figure at 0x118ec0a50>"
      ]
     },
     "metadata": {},
     "output_type": "display_data"
    },
    {
     "name": "stdout",
     "output_type": "stream",
     "text": [
      "Median number of pieces:  63.0\n",
      "75 percentile number of pieces:  171.0\n"
     ]
    }
   ],
   "source": [
    "fig = plt.figure(figsize=(10,7))\n",
    "ax = fig.add_subplot(111)\n",
    "lego[lego.Pieces<500]['Pieces'].hist(color='midnightblue', alpha=.7,ax=ax, bins=50)\n",
    "ax.set(title='Number of pieces', xlabel='Number of pieces', ylabel='Count')\n",
    "plt.show()\n",
    "print 'Median number of pieces: ',lego[lego.Pieces<500]['Pieces'].median()\n",
    "print '75 percentile number of pieces: ',np.percentile(lego[lego.Pieces<500]['Pieces'],75)"
   ]
  },
  {
   "cell_type": "markdown",
   "metadata": {},
   "source": [
    "Again we can see that the distribution is still positively skewd. Median value is 63 and 75 percentile lies at 171. It is also realised that starting at about 300 pieces the variations in set counts with number of pieces reduces significantly.\n",
    "\n",
    "We then move on to the investigation of sets that contains 0 pieces."
   ]
  },
  {
   "cell_type": "code",
   "execution_count": 122,
   "metadata": {
    "collapsed": false
   },
   "outputs": [
    {
     "data": {
      "text/html": [
       "<div>\n",
       "<table border=\"1\" class=\"dataframe\">\n",
       "  <thead>\n",
       "    <tr style=\"text-align: right;\">\n",
       "      <th></th>\n",
       "      <th>Item_Number</th>\n",
       "      <th>Name</th>\n",
       "      <th>Year</th>\n",
       "      <th>Theme</th>\n",
       "      <th>Subtheme</th>\n",
       "      <th>Pieces</th>\n",
       "      <th>Minifigures</th>\n",
       "      <th>Image_URL</th>\n",
       "      <th>USD_MSRP</th>\n",
       "      <th>Packaging</th>\n",
       "      <th>Availability</th>\n",
       "      <th>wanted</th>\n",
       "      <th>owned</th>\n",
       "      <th>rating</th>\n",
       "      <th>theme_grp</th>\n",
       "      <th>review_num</th>\n",
       "      <th>query_id</th>\n",
       "    </tr>\n",
       "  </thead>\n",
       "  <tbody>\n",
       "    <tr>\n",
       "      <th>294</th>\n",
       "      <td>71009</td>\n",
       "      <td>LEGO Minifigures - The Simpsons Series 2 - Com...</td>\n",
       "      <td>2015</td>\n",
       "      <td>Collectable Minifigures</td>\n",
       "      <td>The Simpsons series 2</td>\n",
       "      <td>0.0</td>\n",
       "      <td>16.0</td>\n",
       "      <td>http://images.brickset.com/sets/images/71009-1...</td>\n",
       "      <td>3.99</td>\n",
       "      <td>Foil pack</td>\n",
       "      <td>Retail</td>\n",
       "      <td>311</td>\n",
       "      <td>2598</td>\n",
       "      <td>0</td>\n",
       "      <td>Miscellaneous</td>\n",
       "      <td>0</td>\n",
       "      <td>71009-17</td>\n",
       "    </tr>\n",
       "    <tr>\n",
       "      <th>5169</th>\n",
       "      <td>8299</td>\n",
       "      <td>Search Sub</td>\n",
       "      <td>1997</td>\n",
       "      <td>Technic</td>\n",
       "      <td>No_Subtheme</td>\n",
       "      <td>0.0</td>\n",
       "      <td>1.0</td>\n",
       "      <td>http://images.brickset.com/sets/images/8299-1.jpg</td>\n",
       "      <td>50</td>\n",
       "      <td>Box</td>\n",
       "      <td>Retail</td>\n",
       "      <td>271</td>\n",
       "      <td>650</td>\n",
       "      <td>4</td>\n",
       "      <td>Technical</td>\n",
       "      <td>1</td>\n",
       "      <td>8299-1</td>\n",
       "    </tr>\n",
       "  </tbody>\n",
       "</table>\n",
       "</div>"
      ],
      "text/plain": [
       "     Item_Number                                               Name  Year  \\\n",
       "294        71009  LEGO Minifigures - The Simpsons Series 2 - Com...  2015   \n",
       "5169        8299                                         Search Sub  1997   \n",
       "\n",
       "                        Theme               Subtheme  Pieces  Minifigures  \\\n",
       "294   Collectable Minifigures  The Simpsons series 2     0.0         16.0   \n",
       "5169                  Technic            No_Subtheme     0.0          1.0   \n",
       "\n",
       "                                              Image_URL USD_MSRP  Packaging  \\\n",
       "294   http://images.brickset.com/sets/images/71009-1...     3.99  Foil pack   \n",
       "5169  http://images.brickset.com/sets/images/8299-1.jpg       50        Box   \n",
       "\n",
       "     Availability wanted owned rating      theme_grp review_num  query_id  \n",
       "294        Retail    311  2598      0  Miscellaneous          0  71009-17  \n",
       "5169       Retail    271   650      4      Technical          1    8299-1  "
      ]
     },
     "execution_count": 122,
     "metadata": {},
     "output_type": "execute_result"
    }
   ],
   "source": [
    "lego[lego.Pieces==0]"
   ]
  },
  {
   "cell_type": "code",
   "execution_count": 133,
   "metadata": {
    "collapsed": false
   },
   "outputs": [
    {
     "data": {
      "text/plain": [
       "6.8125"
      ]
     },
     "execution_count": 133,
     "metadata": {},
     "output_type": "execute_result"
    }
   ],
   "source": [
    "lego[(lego.Theme=='Collectable Minifigures')&(lego.Pieces<20)]['Pieces'].mean()"
   ]
  },
  {
   "cell_type": "markdown",
   "metadata": {},
   "source": [
    "Item Number 71009 describes a whole set of Lego minifigures. Referencing similar sets such as Item Number 8833 the average number of piece per figure is 7. Therefore the Pieces column will be change to 16 * 7 = 112. Item Number 8299 has 377 pieces where data is obatined from this <a href='https://www.bricklink.com/v2/catalog/catalogitem.page?S=8299-1#T=P'>Bricklink page.</a>"
   ]
  },
  {
   "cell_type": "code",
   "execution_count": 135,
   "metadata": {
    "collapsed": false
   },
   "outputs": [],
   "source": [
    "lego.ix[lego.query_id=='71009-17','Pieces'] = 112\n",
    "lego.ix[lego.query_id=='8299-1','Pieces'] = 377"
   ]
  },
  {
   "cell_type": "markdown",
   "metadata": {},
   "source": [
    "### Minifigures\n",
    "\n",
    "Many sets contain minifigures to enhance the Lego experience. Minifigures can come with different bodys, legs and facial expressions. The different combinations add lots of interesting elements in the Lego range. "
   ]
  },
  {
   "cell_type": "code",
   "execution_count": 142,
   "metadata": {
    "collapsed": false
   },
   "outputs": [
    {
     "data": {
      "image/png": "[encoded data removed]",
      "text/plain": [
       "<matplotlib.figure.Figure at 0x11a483b90>"
      ]
     },
     "metadata": {},
     "output_type": "display_data"
    },
    {
     "name": "stdout",
     "output_type": "stream",
     "text": [
      "Maximum number of Minifigures:  32.0\n",
      "Minimum number of Minifigures:  0.0\n",
      "Median number of Minifigures:  1.0\n",
      "75 percentile number of Minifigures:  2.0\n"
     ]
    }
   ],
   "source": [
    "fig = plt.figure(figsize=(10,7))\n",
    "ax = fig.add_subplot(111)\n",
    "lego.Minifigures.hist(color='midnightblue', alpha=.7,ax=ax, bins=np.linspace(0,32,17))\n",
    "ax.set(title='Number of Minifigures in a set', xlabel='Number of Minifigures', ylabel='Count')\n",
    "plt.show()\n",
    "print 'Maximum number of Minifigures: ',lego.Minifigures.max()\n",
    "print 'Minimum number of Minifigures: ',lego.Minifigures.min()\n",
    "print 'Median number of Minifigures: ',lego.Minifigures.median()\n",
    "print '75 percentile number of Minifigures: ',np.percentile(lego['Minifigures'],75)"
   ]
  },
  {
   "cell_type": "markdown",
   "metadata": {},
   "source": [
    "Again the plot show positive skewness for number of Minifigures. At least 75% of the sets have less than 2 minifigures. However the maxmium number of Minifugres is 32. This is also possible becuase Lego would sometimes release sets that are focused in minifigures because some collectors focuses their collections on Minifigures.\n",
    "\n",
    "### MSRP"
   ]
  },
  {
   "cell_type": "code",
   "execution_count": 146,
   "metadata": {
    "collapsed": false
   },
   "outputs": [
    {
     "data": {
      "image/png": "[encoded data removed]",
      "text/plain": [
       "<matplotlib.figure.Figure at 0x11961c5d0>"
      ]
     },
     "metadata": {},
     "output_type": "display_data"
    }
   ],
   "source": [
    "fig = plt.figure(figsize=(10,7))\n",
    "ax = fig.add_subplot(111)\n",
    "lego.USD_MSRP.astype(float).hist(color='midnightblue', alpha=.7,ax=ax, bins=50)\n",
    "ax.set(title='Lego sets MSRP (USD)', xlabel='MSRP (USD)', ylabel='Count')\n",
    "plt.show()"
   ]
  },
  {
   "cell_type": "code",
   "execution_count": 200,
   "metadata": {
    "collapsed": false
   },
   "outputs": [
    {
     "data": {
      "image/png": "[encoded data removed]",
      "text/plain": [
       "<matplotlib.figure.Figure at 0x11bd18990>"
      ]
     },
     "metadata": {},
     "output_type": "display_data"
    }
   ],
   "source": [
    "fig = plt.figure(figsize=(10,7))\n",
    "ax = fig.add_subplot(111)\n",
    "lego.ix[lego.USD_MSRP<100,'USD_MSRP'].astype(float).hist(color='midnightblue', alpha=.7,ax=ax, bins=20)\n",
    "ax.set(title='Lego sets MSRP (USD)', xlabel='MSRP (USD)', ylabel='Count')\n",
    "plt.show()"
   ]
  },
  {
   "cell_type": "markdown",
   "metadata": {},
   "source": [
    "It is realised that most pieces are well below 20 USD. This is rather surprising as we can always see large sets in stores which costs a lot more. However 1 thing to bear in mind is that the prices in the data set has not been adjusted for inflation. Therefore inflation data is obtained from <a href='http://inflationdata.com/Inflation/Inflation_Rate/HistoricalInflation.aspx'>inflationdata.com</a> and adjustments were made."
   ]
  },
  {
   "cell_type": "code",
   "execution_count": 174,
   "metadata": {
    "collapsed": false
   },
   "outputs": [
    {
     "data": {
      "text/plain": [
       "[0.14570928634142524,\n",
       " 0.15225630756679759,\n",
       " 0.15740339870443251,\n",
       " 0.16773593212322307,\n",
       " 0.18853088920222885]"
      ]
     },
     "execution_count": 174,
     "metadata": {},
     "output_type": "execute_result"
    }
   ],
   "source": [
    "inflation_lst = np.array([.043,.0327,.0616,.1103,.092,.0575,.065,.0762,.1122,.1358,.1035,.0616,.0322,.043,.0355,.0191,\n",
    "                 .0366,.0408,.0483,.0539,.0425,.0303,.0296,.0261,.0281,.0293,.0234,.0155,.0219,.0338,.0283,.0159,\n",
    "                 .0227,.0268,.0339,.0324,.0285,.0385,-0.0034,.0164,.0316,.0207,.0147,.0162])\n",
    "inf_rev = 1 - inflation_lst\n",
    "inf = [np.prod(inf_rev[i:]) for i in range(len(inflation_lst))]"
   ]
  },
  {
   "cell_type": "code",
   "execution_count": 194,
   "metadata": {
    "collapsed": false
   },
   "outputs": [],
   "source": [
    "def adj_coef(x):\n",
    "    if x != 2015:\n",
    "        diff = x-1971\n",
    "        return inf[diff]\n",
    "    return 1\n",
    "lego['adjust_coef'] = lego['Year'].apply(adj_coef)\n",
    "lego.USD_MSRP = lego.USD_MSRP.astype(float)\n",
    "lego['adj_USD_MSRP'] = lego.USD_MSRP/lego.adjust_coef"
   ]
  },
  {
   "cell_type": "code",
   "execution_count": 201,
   "metadata": {
    "collapsed": false
   },
   "outputs": [
    {
     "data": {
      "text/html": [
       "<div>\n",
       "<table border=\"1\" class=\"dataframe\">\n",
       "  <thead>\n",
       "    <tr style=\"text-align: right;\">\n",
       "      <th></th>\n",
       "      <th>Item_Number</th>\n",
       "      <th>Name</th>\n",
       "      <th>Year</th>\n",
       "      <th>Theme</th>\n",
       "      <th>Subtheme</th>\n",
       "      <th>Pieces</th>\n",
       "      <th>Minifigures</th>\n",
       "      <th>Image_URL</th>\n",
       "      <th>USD_MSRP</th>\n",
       "      <th>Packaging</th>\n",
       "      <th>Availability</th>\n",
       "      <th>wanted</th>\n",
       "      <th>owned</th>\n",
       "      <th>rating</th>\n",
       "      <th>theme_grp</th>\n",
       "      <th>review_num</th>\n",
       "      <th>query_id</th>\n",
       "      <th>adjust_coef</th>\n",
       "      <th>adj_USD_MSRP</th>\n",
       "    </tr>\n",
       "  </thead>\n",
       "  <tbody>\n",
       "    <tr>\n",
       "      <th>6055</th>\n",
       "      <td>647</td>\n",
       "      <td>Lorry With Girders</td>\n",
       "      <td>1971</td>\n",
       "      <td>LEGOLAND</td>\n",
       "      <td>Vehicle</td>\n",
       "      <td>52.0</td>\n",
       "      <td>0.0</td>\n",
       "      <td>http://images.brickset.com/sets/images/647-1.jpg</td>\n",
       "      <td>0.6985</td>\n",
       "      <td>Box</td>\n",
       "      <td>Retail</td>\n",
       "      <td>58</td>\n",
       "      <td>130</td>\n",
       "      <td>3</td>\n",
       "      <td>Vintage themes</td>\n",
       "      <td>1</td>\n",
       "      <td>647-1</td>\n",
       "      <td>0.145709</td>\n",
       "      <td>4.793792</td>\n",
       "    </tr>\n",
       "    <tr>\n",
       "      <th>6056</th>\n",
       "      <td>648</td>\n",
       "      <td>Service Station</td>\n",
       "      <td>1971</td>\n",
       "      <td>LEGOLAND</td>\n",
       "      <td>Building</td>\n",
       "      <td>55.0</td>\n",
       "      <td>0.0</td>\n",
       "      <td>http://images.brickset.com/sets/images/648-1.jpg</td>\n",
       "      <td>0.6985</td>\n",
       "      <td>Box</td>\n",
       "      <td>Retail</td>\n",
       "      <td>122</td>\n",
       "      <td>236</td>\n",
       "      <td>4</td>\n",
       "      <td>Vintage themes</td>\n",
       "      <td>2</td>\n",
       "      <td>648-1</td>\n",
       "      <td>0.145709</td>\n",
       "      <td>4.793792</td>\n",
       "    </tr>\n",
       "    <tr>\n",
       "      <th>6057</th>\n",
       "      <td>795</td>\n",
       "      <td>2 Large Baseplates, Red/Blue</td>\n",
       "      <td>1971</td>\n",
       "      <td>Basic</td>\n",
       "      <td>Supplementaries</td>\n",
       "      <td>2.0</td>\n",
       "      <td>0.0</td>\n",
       "      <td>http://images.brickset.com/sets/images/795-1.jpg</td>\n",
       "      <td>2.1000</td>\n",
       "      <td>Not specified</td>\n",
       "      <td>Not specified</td>\n",
       "      <td>47</td>\n",
       "      <td>66</td>\n",
       "      <td>0</td>\n",
       "      <td>Basic</td>\n",
       "      <td>0</td>\n",
       "      <td>795-1</td>\n",
       "      <td>0.145709</td>\n",
       "      <td>14.412259</td>\n",
       "    </tr>\n",
       "    <tr>\n",
       "      <th>6058</th>\n",
       "      <td>796</td>\n",
       "      <td>2 Large Baseplates, Green/Yellow</td>\n",
       "      <td>1971</td>\n",
       "      <td>Basic</td>\n",
       "      <td>Supplementaries</td>\n",
       "      <td>2.0</td>\n",
       "      <td>0.0</td>\n",
       "      <td>http://images.brickset.com/sets/images/796-1.jpg</td>\n",
       "      <td>2.1000</td>\n",
       "      <td>Not specified</td>\n",
       "      <td>Not specified</td>\n",
       "      <td>48</td>\n",
       "      <td>62</td>\n",
       "      <td>0</td>\n",
       "      <td>Basic</td>\n",
       "      <td>0</td>\n",
       "      <td>796-1</td>\n",
       "      <td>0.145709</td>\n",
       "      <td>14.412259</td>\n",
       "    </tr>\n",
       "    <tr>\n",
       "      <th>6059</th>\n",
       "      <td>798</td>\n",
       "      <td>2 Medium Baseplates, Green</td>\n",
       "      <td>1971</td>\n",
       "      <td>Basic</td>\n",
       "      <td>Supplementaries</td>\n",
       "      <td>2.0</td>\n",
       "      <td>0.0</td>\n",
       "      <td>http://images.brickset.com/sets/images/798-1.jpg</td>\n",
       "      <td>3.4000</td>\n",
       "      <td>Not specified</td>\n",
       "      <td>Not specified</td>\n",
       "      <td>49</td>\n",
       "      <td>91</td>\n",
       "      <td>0</td>\n",
       "      <td>Basic</td>\n",
       "      <td>0</td>\n",
       "      <td>798-1</td>\n",
       "      <td>0.145709</td>\n",
       "      <td>23.334134</td>\n",
       "    </tr>\n",
       "  </tbody>\n",
       "</table>\n",
       "</div>"
      ],
      "text/plain": [
       "     Item_Number                              Name  Year     Theme  \\\n",
       "6055         647                Lorry With Girders  1971  LEGOLAND   \n",
       "6056         648                   Service Station  1971  LEGOLAND   \n",
       "6057         795      2 Large Baseplates, Red/Blue  1971     Basic   \n",
       "6058         796  2 Large Baseplates, Green/Yellow  1971     Basic   \n",
       "6059         798        2 Medium Baseplates, Green  1971     Basic   \n",
       "\n",
       "             Subtheme  Pieces  Minifigures  \\\n",
       "6055          Vehicle    52.0          0.0   \n",
       "6056         Building    55.0          0.0   \n",
       "6057  Supplementaries     2.0          0.0   \n",
       "6058  Supplementaries     2.0          0.0   \n",
       "6059  Supplementaries     2.0          0.0   \n",
       "\n",
       "                                             Image_URL  USD_MSRP  \\\n",
       "6055  http://images.brickset.com/sets/images/647-1.jpg    0.6985   \n",
       "6056  http://images.brickset.com/sets/images/648-1.jpg    0.6985   \n",
       "6057  http://images.brickset.com/sets/images/795-1.jpg    2.1000   \n",
       "6058  http://images.brickset.com/sets/images/796-1.jpg    2.1000   \n",
       "6059  http://images.brickset.com/sets/images/798-1.jpg    3.4000   \n",
       "\n",
       "          Packaging   Availability wanted owned rating       theme_grp  \\\n",
       "6055            Box         Retail     58   130      3  Vintage themes   \n",
       "6056            Box         Retail    122   236      4  Vintage themes   \n",
       "6057  Not specified  Not specified     47    66      0           Basic   \n",
       "6058  Not specified  Not specified     48    62      0           Basic   \n",
       "6059  Not specified  Not specified     49    91      0           Basic   \n",
       "\n",
       "     review_num query_id  adjust_coef  adj_USD_MSRP  \n",
       "6055          1    647-1     0.145709      4.793792  \n",
       "6056          2    648-1     0.145709      4.793792  \n",
       "6057          0    795-1     0.145709     14.412259  \n",
       "6058          0    796-1     0.145709     14.412259  \n",
       "6059          0    798-1     0.145709     23.334134  "
      ]
     },
     "execution_count": 201,
     "metadata": {},
     "output_type": "execute_result"
    }
   ],
   "source": [
    "lego.tail()"
   ]
  },
  {
   "cell_type": "code",
   "execution_count": 202,
   "metadata": {
    "collapsed": false
   },
   "outputs": [
    {
     "data": {
      "image/png": "[encoded data removed]",
      "text/plain": [
       "<matplotlib.figure.Figure at 0x11a140150>"
      ]
     },
     "metadata": {},
     "output_type": "display_data"
    }
   ],
   "source": [
    "fig = plt.figure(figsize=(10,7))\n",
    "ax = fig.add_subplot(111)\n",
    "lego.adj_USD_MSRP.astype(float).hist(color='crimson', alpha=.7,ax=ax, bins=50)\n",
    "ax.set(title='Lego sets MSRP (USD)', xlabel='MSRP (USD)', ylabel='Count')\n",
    "plt.show()"
   ]
  },
  {
   "cell_type": "code",
   "execution_count": 204,
   "metadata": {
    "collapsed": false
   },
   "outputs": [
    {
     "data": {
      "image/png": "[encoded data removed]",
      "text/plain": [
       "<matplotlib.figure.Figure at 0x11b872b50>"
      ]
     },
     "metadata": {},
     "output_type": "display_data"
    }
   ],
   "source": [
    "fig = plt.figure(figsize=(10,7))\n",
    "ax = fig.add_subplot(111)\n",
    "lego.ix[lego.adj_USD_MSRP<100,'adj_USD_MSRP'].astype(float).hist(color='crimson', alpha=.7,ax=ax, bins=20)\n",
    "ax.set(title='Lego sets MSRP (USD)', xlabel='MSRP (USD)', ylabel='Count')\n",
    "plt.show()"
   ]
  },
  {
   "cell_type": "markdown",
   "metadata": {},
   "source": [
    "Although the skewness is still there (which is expected), the distribution is now more 'even'. There are significantly more sets that ranges from 5 USD to 15 USD in terms of ratio."
   ]
  },
  {
   "cell_type": "markdown",
   "metadata": {},
   "source": [
    "### Packaging\n",
    "\n",
    "Most Lego sets are packed as we see them - in boxes. However there are also other packaging methods. Although not as popular as boxes, packaging using plastic bags are also common. Those are called Polybags. Foilbags are used when Lego would like to hide the content in the bag from customers. The most popular example would be the Collectable Minifigure Series. It should also be noted that there are over 1500 instances with no packaging information."
   ]
  },
  {
   "cell_type": "code",
   "execution_count": 206,
   "metadata": {
    "collapsed": false
   },
   "outputs": [
    {
     "data": {
      "image/png": "[encoded data removed]",
      "text/plain": [
       "<matplotlib.figure.Figure at 0x11a8bf510>"
      ]
     },
     "metadata": {},
     "output_type": "display_data"
    }
   ],
   "source": [
    "fig = plt.figure(figsize=(10,7))\n",
    "ax = fig.add_subplot(111)\n",
    "lego.Packaging.value_counts().plot(kind='barh', alpha=.7,ax=ax, color='midnightblue')\n",
    "ax.set(title='How Lego sets are packaged', xlabel='Counts', ylabel='Package Type')\n",
    "plt.show()"
   ]
  },
  {
   "cell_type": "markdown",
   "metadata": {},
   "source": [
    "### Availability\n",
    "\n",
    "Most Lego sets are available for normal retail. However there are also other channels that Lego distributes its products. For example there are Legoland exclusive sets that customers can only purchase in Legoland. There are also limited editions that availability is significantly less than normal products. Similar to the Packaging feature, the availability feature has got over 1500 not-specified instances."
   ]
  },
  {
   "cell_type": "code",
   "execution_count": 208,
   "metadata": {
    "collapsed": false
   },
   "outputs": [
    {
     "data": {
      "image/png": "[encoded data removed]",
      "text/plain": [
       "<matplotlib.figure.Figure at 0x11b4b6a50>"
      ]
     },
     "metadata": {},
     "output_type": "display_data"
    }
   ],
   "source": [
    "fig = plt.figure(figsize=(10,7))\n",
    "ax = fig.add_subplot(111)\n",
    "lego.Availability.value_counts().plot(kind='barh', alpha=.7,ax=ax, color='midnightblue')\n",
    "ax.set(title='Lego sets availability', xlabel='Counts', ylabel='Availability Type')\n",
    "plt.show()"
   ]
  },
  {
   "cell_type": "markdown",
   "metadata": {},
   "source": [
    "### Wanted and Owned\n",
    "\n",
    "In the website Brickset.com, registered users are able to indicate their interest in specific Lego sets by saying that they want it. They can also record the ownership of their own Lego sets. Therefore for the same Lego item number, there are two figures showing the 'want' and 'own' respectively. The following plots demonstrate the distribution of such figures."
   ]
  },
  {
   "cell_type": "code",
   "execution_count": 220,
   "metadata": {
    "collapsed": false
   },
   "outputs": [
    {
     "data": {
      "image/png": "[encoded data removed]",
      "text/plain": [
       "<matplotlib.figure.Figure at 0x119703c90>"
      ]
     },
     "metadata": {},
     "output_type": "display_data"
    }
   ],
   "source": [
    "lego.wanted = lego.wanted.astype(float)\n",
    "lego.owned = lego.owned.astype(float)\n",
    "fig = plt.figure(figsize=(16,7))\n",
    "ax1 = fig.add_subplot(121)\n",
    "ax2 = fig.add_subplot(122)\n",
    "lego.owned.hist(color='midnightblue', alpha=.7,ax=ax1, bins=20)\n",
    "ax1.set(title='Lego ownership in Brickset', xlabel='Number Owned', ylabel='Counts')\n",
    "lego.wanted.hist(color='midnightblue', alpha=.7,ax=ax2, bins=20)\n",
    "ax2.set(title='Lego wanted by members in Brickset', xlabel='Number Wanted', ylabel='Counts')\n",
    "plt.show()"
   ]
  },
  {
   "cell_type": "markdown",
   "metadata": {},
   "source": [
    "From the plots above it can be seen that the distributions (in terms of shape) are very similar. Most pieces have very little votes. This could be due to the fact that not many sets are high profile sets and the majority receives very little attention. Therefore their votes on either categories are relatively low."
   ]
  },
  {
   "cell_type": "code",
   "execution_count": 237,
   "metadata": {
    "collapsed": false
   },
   "outputs": [
    {
     "data": {
      "image/png": "[encoded data removed]",
      "text/plain": [
       "<matplotlib.figure.Figure at 0x11b8d8a90>"
      ]
     },
     "metadata": {},
     "output_type": "display_data"
    }
   ],
   "source": [
    "fig = plt.figure(figsize=(10,7))\n",
    "ax1 = fig.add_subplot(111)\n",
    "#ax2 = fig.add_subplot(122)\n",
    "ax1.scatter(lego.owned,lego.wanted, color='midnightblue', alpha=.7, label='data')\n",
    "ax1.plot(lego.owned,lego.owned, color='crimson', alpha=.7, label = 'Owned = Wanted')\n",
    "ax1.set(title='Owned vs Wanted', xlabel='Owned', ylabel='Wanted',xlim=[0,16000],ylim=[0,10000])\n",
    "plt.legend()\n",
    "plt.show()"
   ]
  },
  {
   "cell_type": "markdown",
   "metadata": {},
   "source": [
    "The above scatter plot describes the relationship between the 'wants' and 'owns' for various Lego sets. In order to assist the interpretation of the plot, a line showing want = own is also plotted. As expected we can see from the graph that most data points fall under the line. This means that most sets have more owns than wants. This is very common as the simple economic theory suggest that the rarer an items is the less supply it has; which in turns leads to a small number of total owners. The top 3 wanted sets are shown below:"
   ]
  },
  {
   "cell_type": "code",
   "execution_count": 3,
   "metadata": {
    "collapsed": false
   },
   "outputs": [
    {
     "data": {
      "text/html": [
       "<div>\n",
       "<table border=\"1\" class=\"dataframe\">\n",
       "  <thead>\n",
       "    <tr style=\"text-align: right;\">\n",
       "      <th></th>\n",
       "      <th>Item_Number</th>\n",
       "      <th>Name</th>\n",
       "      <th>Year</th>\n",
       "      <th>Theme</th>\n",
       "      <th>Subtheme</th>\n",
       "      <th>Pieces</th>\n",
       "      <th>Minifigures</th>\n",
       "      <th>Image_URL</th>\n",
       "      <th>USD_MSRP</th>\n",
       "      <th>Packaging</th>\n",
       "      <th>Availability</th>\n",
       "      <th>wanted</th>\n",
       "      <th>owned</th>\n",
       "      <th>rating</th>\n",
       "      <th>theme_grp</th>\n",
       "      <th>review_num</th>\n",
       "      <th>query_id</th>\n",
       "      <th>adjust_coef</th>\n",
       "      <th>adj_USD_MSRP</th>\n",
       "    </tr>\n",
       "  </thead>\n",
       "  <tbody>\n",
       "    <tr>\n",
       "      <th>2514</th>\n",
       "      <td>10185</td>\n",
       "      <td>Green Grocer</td>\n",
       "      <td>2008</td>\n",
       "      <td>Advanced Models</td>\n",
       "      <td>Modular Buildings</td>\n",
       "      <td>2352.0</td>\n",
       "      <td>4.0</td>\n",
       "      <td>http://images.brickset.com/sets/images/10185-1...</td>\n",
       "      <td>149.99</td>\n",
       "      <td>Box</td>\n",
       "      <td>Retail - limited</td>\n",
       "      <td>8373.0</td>\n",
       "      <td>6304.0</td>\n",
       "      <td>4.89655172413793</td>\n",
       "      <td>Model making</td>\n",
       "      <td>29</td>\n",
       "      <td>10185-1</td>\n",
       "      <td>0.872344</td>\n",
       "      <td>171.939066</td>\n",
       "    </tr>\n",
       "    <tr>\n",
       "      <th>2740</th>\n",
       "      <td>10179</td>\n",
       "      <td>Ultimate Collector's Millennium Falcon</td>\n",
       "      <td>2007</td>\n",
       "      <td>Star Wars</td>\n",
       "      <td>Ultimate Collector Series</td>\n",
       "      <td>5195.0</td>\n",
       "      <td>5.0</td>\n",
       "      <td>http://images.brickset.com/sets/images/10179-1...</td>\n",
       "      <td>499.99</td>\n",
       "      <td>Not specified</td>\n",
       "      <td>Not specified</td>\n",
       "      <td>8763.0</td>\n",
       "      <td>3267.0</td>\n",
       "      <td>4.76190476190476</td>\n",
       "      <td>Licensed</td>\n",
       "      <td>21</td>\n",
       "      <td>10179-1</td>\n",
       "      <td>0.847482</td>\n",
       "      <td>589.971146</td>\n",
       "    </tr>\n",
       "    <tr>\n",
       "      <th>2742</th>\n",
       "      <td>10182</td>\n",
       "      <td>Cafe Corner</td>\n",
       "      <td>2007</td>\n",
       "      <td>Advanced Models</td>\n",
       "      <td>Modular Buildings</td>\n",
       "      <td>2056.0</td>\n",
       "      <td>3.0</td>\n",
       "      <td>http://images.brickset.com/sets/images/10182-1...</td>\n",
       "      <td>139.99</td>\n",
       "      <td>Box</td>\n",
       "      <td>LEGO exclusive</td>\n",
       "      <td>8774.0</td>\n",
       "      <td>4953.0</td>\n",
       "      <td>4.76470588235294</td>\n",
       "      <td>Model making</td>\n",
       "      <td>34</td>\n",
       "      <td>10182-1</td>\n",
       "      <td>0.847482</td>\n",
       "      <td>165.183425</td>\n",
       "    </tr>\n",
       "  </tbody>\n",
       "</table>\n",
       "</div>"
      ],
      "text/plain": [
       "     Item_Number                                    Name  Year  \\\n",
       "2514       10185                            Green Grocer  2008   \n",
       "2740       10179  Ultimate Collector's Millennium Falcon  2007   \n",
       "2742       10182                             Cafe Corner  2007   \n",
       "\n",
       "                Theme                   Subtheme  Pieces  Minifigures  \\\n",
       "2514  Advanced Models          Modular Buildings  2352.0          4.0   \n",
       "2740        Star Wars  Ultimate Collector Series  5195.0          5.0   \n",
       "2742  Advanced Models          Modular Buildings  2056.0          3.0   \n",
       "\n",
       "                                              Image_URL  USD_MSRP  \\\n",
       "2514  http://images.brickset.com/sets/images/10185-1...    149.99   \n",
       "2740  http://images.brickset.com/sets/images/10179-1...    499.99   \n",
       "2742  http://images.brickset.com/sets/images/10182-1...    139.99   \n",
       "\n",
       "          Packaging      Availability  wanted   owned            rating  \\\n",
       "2514            Box  Retail - limited  8373.0  6304.0  4.89655172413793   \n",
       "2740  Not specified     Not specified  8763.0  3267.0  4.76190476190476   \n",
       "2742            Box    LEGO exclusive  8774.0  4953.0  4.76470588235294   \n",
       "\n",
       "         theme_grp review_num query_id  adjust_coef  adj_USD_MSRP  \n",
       "2514  Model making         29  10185-1     0.872344    171.939066  \n",
       "2740      Licensed         21  10179-1     0.847482    589.971146  \n",
       "2742  Model making         34  10182-1     0.847482    165.183425  "
      ]
     },
     "execution_count": 3,
     "metadata": {},
     "output_type": "execute_result"
    }
   ],
   "source": [
    "lego[lego.wanted>8000]"
   ]
  },
  {
   "cell_type": "markdown",
   "metadata": {},
   "source": [
    "### More on the definition of classification labels\n",
    "\n",
    "As we can tell from the data set that there are no obvious labels to differentiate common sets from desirable sets, it is important to discuss how 'desirable-ness' should be measured. In the following summary the considered metrics would be proposed and its relevant pros and cons will be discussed.\n",
    "\n",
    "- Using the 'Wanted' number:\n",
    "This is the most straight forward metric that one can derived at. The biggest advantage in using this metric is that it is simple and easy to understand. The disadvantage of simply using 'wanted' is that it might not capture some information that is more complicated such as the number of people wanting a specific set. In other words if many people want a certain set but in the same time even more people own it. Does that still make the set desirable/collectable?\n",
    "\n",
    "\n",
    "- Using $Wanted/Owned$:\n",
    "Addressing the problem discussed above, one can use another label metric (denoted l): $$l = \\frac{Wanted}{Owned}$$This metric takes into account of set ownership as well. That is if a highly wanted set is also owned by many, l would not be high. This can in a way more accurately reflect the rarity of a Lego set. However this leads to another potential problem. The same 'l' can be achieved by different combinations of wanteds and owneds. For example having a 'l' metric of 3, there could be 3000 wanted and 1000 owned for set A and 3 wanted and 1 owned for set B. Common sense tells us that set A and set B are probably not equally desirable. Since set B receives less 'votes' in each category it might just means that set B is not very popular so hobbyist do not bother expressing their interest/ownership. This effect is not reflected in this 'l' metric.\n",
    "\n",
    "- Incorpration of certain 'distance' components:\n",
    "One way to mitigate the problem mentioned above is to include a distance component in the 'l' metric. There are two major ways that this could be achieved. The first one is to include a component in proportion to the data point's distance from the origin (point 0,0). This distance can effectively reflect the popularity of a data point. The greater the distance, the more vote a set has. This is because such distance is the square root of 'owned' squared + 'wanted' squared. \n",
    "\n",
    "Another distance component is the normal distance from the line wanted = owned. Since the data points can not have negative values, this distance is inheritedly small when it is near the origin. \n",
    "\n",
    "However it is tricky to incorprate these distance components in the 'l' metric. It is difficult to properly quantify their weighting and their effect on the metric. It is also more difficult for audiences to comprehend this metric.\n",
    "\n",
    "#### Colnclusion\n",
    "\n",
    "From the discussion above we know that there are advantages in itroducing a more complex lable to the dataset. However it is difficult to incorporate the metric properly. This is due to the fact that it is not poosible to easily integrate the distance component nor is the explantion to target audiences. Therefore for now the 'wanted' column wills serve as the 'desirable-ness' label with the top 10% defined as 'desirable'. However other labeling methods will also be investigated and improvement in this labeling system can take place\n",
    "\n",
    "### Ratings"
   ]
  },
  {
   "cell_type": "code",
   "execution_count": 6,
   "metadata": {
    "collapsed": false
   },
   "outputs": [
    {
     "data": {
      "image/png": "[encoded data removed]",
      "text/plain": [
       "<matplotlib.figure.Figure at 0x118344750>"
      ]
     },
     "metadata": {},
     "output_type": "display_data"
    }
   ],
   "source": [
    "fig = plt.figure(figsize=(10,7))\n",
    "ax = fig.add_subplot(111)\n",
    "lego.rating.astype(float).hist(color='midnightblue', alpha=.7,ax=ax, bins=20)\n",
    "ax.set(title='Lego sets ratings', xlabel='Ratings', ylabel='Count')\n",
    "plt.show()"
   ]
  },
  {
   "cell_type": "markdown",
   "metadata": {},
   "source": [
    "The shape of the rating distribution is rather unexpected. It can be seen that the ratings are concentrated in either end of the plot. It is suspected that most of the 0 rated items are actually items without ratings and the values were filled in during the data cleaning process. At the other end of the spectrum lies the review of the users. It is common for hoobyist to give reviews to those sets that they like but not to criticise the sets that are average. This could be the reason leading to this extreme situation.\n",
    "\n",
    "### Theme Group"
   ]
  },
  {
   "cell_type": "code",
   "execution_count": 7,
   "metadata": {
    "collapsed": false
   },
   "outputs": [
    {
     "data": {
      "image/png": "[encoded data removed]",
      "text/plain": [
       "<matplotlib.figure.Figure at 0x11834a550>"
      ]
     },
     "metadata": {},
     "output_type": "display_data"
    }
   ],
   "source": [
    "fig = plt.figure(figsize=(10,7))\n",
    "ax = fig.add_subplot(111)\n",
    "lego.theme_grp.value_counts().plot(kind='barh', alpha=.7,ax=ax, color='midnightblue')\n",
    "ax.set(title='How Lego sets are packaged', xlabel='Counts', ylabel='Package Type')\n",
    "plt.show()"
   ]
  },
  {
   "cell_type": "markdown",
   "metadata": {},
   "source": [
    "Theme group is just like \"Theme\" or \"Subtheme\" where sets are categorised. However theme group has less overall categories which allows users to compare better.\n",
    "\n",
    "### Number of reviews"
   ]
  },
  {
   "cell_type": "code",
   "execution_count": 11,
   "metadata": {
    "collapsed": false
   },
   "outputs": [
    {
     "data": {
      "image/png": "[encoded data removed]",
      "text/plain": [
       "<matplotlib.figure.Figure at 0x118fdccd0>"
      ]
     },
     "metadata": {},
     "output_type": "display_data"
    },
    {
     "name": "stdout",
     "output_type": "stream",
     "text": [
      "Maximum reviews:  97\n",
      "Minimum reviews:  0\n",
      "Median:  2.0\n"
     ]
    }
   ],
   "source": [
    "fig = plt.figure(figsize=(10,7))\n",
    "ax = fig.add_subplot(111)\n",
    "lego.review_num.astype(float).hist(color='midnightblue', alpha=.7,ax=ax, bins=20)\n",
    "ax.set(title='Number of reviews', xlabel='Number of reviews', ylabel='Count',xlim=[0,100])\n",
    "plt.show()\n",
    "print 'Maximum reviews: ',lego.review_num.max()\n",
    "print 'Minimum reviews: ',lego.review_num.min()\n",
    "print 'Median: ',lego.review_num.median()"
   ]
  },
  {
   "cell_type": "markdown",
   "metadata": {},
   "source": [
    "Again it shows that most sets have very small number of reviews which is less than or equal to 2. It is suspected that because most hobbyist would like to reviews sets that are special or popular - which accounts for a very small number of the total available data.\n",
    "\n",
    "### Others\n",
    "\n",
    "#### Effect of inflation adjustment on prices"
   ]
  },
  {
   "cell_type": "code",
   "execution_count": 13,
   "metadata": {
    "collapsed": false
   },
   "outputs": [
    {
     "data": {
      "image/png": "[encoded data removed]",
      "text/plain": [
       "<matplotlib.figure.Figure at 0x117bed490>"
      ]
     },
     "metadata": {},
     "output_type": "display_data"
    }
   ],
   "source": [
    "fig = plt.figure(figsize=(16,7))\n",
    "ax1 = fig.add_subplot(121)\n",
    "ax2 = fig.add_subplot(122)\n",
    "ax1.scatter(lego.Pieces,lego.adj_USD_MSRP, color='midnightblue', alpha=.7)\n",
    "ax1.set(title='adj_USD', xlabel='Number of pieces', ylabel='adj_USD')\n",
    "ax2.scatter(lego.Pieces,lego.USD_MSRP, color='midnightblue', alpha=.7)\n",
    "ax2.set(title='USD', xlabel='Number of pieces', ylabel='USD')\n",
    "plt.show()"
   ]
  },
  {
   "cell_type": "markdown",
   "metadata": {},
   "source": [
    "The above plots show the effect of inflation adjustment. Although the distribution shape stays rather similar, some patterns or evidence or thresholds disappear which were shown as horizontal lines in the non-adjusted plot.\n",
    "\n",
    "#### Price per pieces"
   ]
  },
  {
   "cell_type": "code",
   "execution_count": 4,
   "metadata": {
    "collapsed": false
   },
   "outputs": [
    {
     "data": {
      "image/png": "[encoded data removed]",
      "text/plain": [
       "<matplotlib.figure.Figure at 0x11848ed90>"
      ]
     },
     "metadata": {},
     "output_type": "display_data"
    },
    {
     "name": "stdout",
     "output_type": "stream",
     "text": [
      "Max price per piece:  207.29888571\n",
      "Min price per piece:  0.0\n",
      "Median:  0.171614817352\n",
      "75 percentile:  0.370455367834\n"
     ]
    }
   ],
   "source": [
    "ppp = lego.adj_USD_MSRP/lego.Pieces\n",
    "fig = plt.figure(figsize=(10,7))\n",
    "ax = fig.add_subplot(111)\n",
    "ppp.hist(color='midnightblue', alpha=.7,ax=ax, bins=20)\n",
    "ax.set(title='Price per piece distribution', xlabel='Price per piece', ylabel='Count')\n",
    "plt.show()\n",
    "print 'Max price per piece: ',ppp.max()\n",
    "print 'Min price per piece: ',ppp.min()\n",
    "print 'Median: ',ppp.median()\n",
    "print '75 percentile: ',np.percentile(ppp,75)"
   ]
  },
  {
   "cell_type": "markdown",
   "metadata": {},
   "source": [
    "From the above plot it can be seen that the price per pieces figures are mostly under 0.4. However some sets have a figure as high as over 200. In order to understand what is going on there a futher investigation was carried out."
   ]
  },
  {
   "cell_type": "code",
   "execution_count": 7,
   "metadata": {
    "collapsed": false
   },
   "outputs": [
    {
     "data": {
      "text/html": [
       "<div>\n",
       "<table border=\"1\" class=\"dataframe\">\n",
       "  <thead>\n",
       "    <tr style=\"text-align: right;\">\n",
       "      <th></th>\n",
       "      <th>Item_Number</th>\n",
       "      <th>Name</th>\n",
       "      <th>Year</th>\n",
       "      <th>Theme</th>\n",
       "      <th>Subtheme</th>\n",
       "      <th>Pieces</th>\n",
       "      <th>Minifigures</th>\n",
       "      <th>Image_URL</th>\n",
       "      <th>USD_MSRP</th>\n",
       "      <th>Packaging</th>\n",
       "      <th>Availability</th>\n",
       "      <th>wanted</th>\n",
       "      <th>owned</th>\n",
       "      <th>rating</th>\n",
       "      <th>theme_grp</th>\n",
       "      <th>review_num</th>\n",
       "      <th>query_id</th>\n",
       "      <th>adjust_coef</th>\n",
       "      <th>adj_USD_MSRP</th>\n",
       "      <th>Price_per_piece</th>\n",
       "    </tr>\n",
       "  </thead>\n",
       "  <tbody>\n",
       "    <tr>\n",
       "      <th>959</th>\n",
       "      <td>45500</td>\n",
       "      <td>EV3 Intelligent Brick</td>\n",
       "      <td>2013</td>\n",
       "      <td>Mindstorms</td>\n",
       "      <td>EV3</td>\n",
       "      <td>1.0</td>\n",
       "      <td>0.0</td>\n",
       "      <td>http://images.brickset.com/sets/images/45500-1...</td>\n",
       "      <td>189.99</td>\n",
       "      <td>Not specified</td>\n",
       "      <td>LEGO exclusive</td>\n",
       "      <td>112.0</td>\n",
       "      <td>47.0</td>\n",
       "      <td>0</td>\n",
       "      <td>Technical</td>\n",
       "      <td>0</td>\n",
       "      <td>45500-1</td>\n",
       "      <td>0.969338</td>\n",
       "      <td>195.999716</td>\n",
       "      <td>195.999716</td>\n",
       "    </tr>\n",
       "    <tr>\n",
       "      <th>1613</th>\n",
       "      <td>10285</td>\n",
       "      <td>Compass Sensor</td>\n",
       "      <td>2011</td>\n",
       "      <td>Mindstorms</td>\n",
       "      <td>NXT</td>\n",
       "      <td>1.0</td>\n",
       "      <td>0.0</td>\n",
       "      <td>http://images.brickset.com/sets/images/10285-1...</td>\n",
       "      <td>54.99</td>\n",
       "      <td>Not specified</td>\n",
       "      <td>Not specified</td>\n",
       "      <td>124.0</td>\n",
       "      <td>62.0</td>\n",
       "      <td>3</td>\n",
       "      <td>Technical</td>\n",
       "      <td>1</td>\n",
       "      <td>10285-1</td>\n",
       "      <td>0.919276</td>\n",
       "      <td>59.818826</td>\n",
       "      <td>59.818826</td>\n",
       "    </tr>\n",
       "    <tr>\n",
       "      <th>1614</th>\n",
       "      <td>10286</td>\n",
       "      <td>Colour Sensor</td>\n",
       "      <td>2011</td>\n",
       "      <td>Mindstorms</td>\n",
       "      <td>NXT</td>\n",
       "      <td>1.0</td>\n",
       "      <td>0.0</td>\n",
       "      <td>http://images.brickset.com/sets/images/10286-1...</td>\n",
       "      <td>54.99</td>\n",
       "      <td>Not specified</td>\n",
       "      <td>Not specified</td>\n",
       "      <td>98.0</td>\n",
       "      <td>48.0</td>\n",
       "      <td>0</td>\n",
       "      <td>Technical</td>\n",
       "      <td>0</td>\n",
       "      <td>10286-1</td>\n",
       "      <td>0.919276</td>\n",
       "      <td>59.818826</td>\n",
       "      <td>59.818826</td>\n",
       "    </tr>\n",
       "    <tr>\n",
       "      <th>1676</th>\n",
       "      <td>2852724</td>\n",
       "      <td>Accelerometer Sensor</td>\n",
       "      <td>2011</td>\n",
       "      <td>Mindstorms</td>\n",
       "      <td>NXT</td>\n",
       "      <td>1.0</td>\n",
       "      <td>0.0</td>\n",
       "      <td>http://images.brickset.com/sets/images/2852724...</td>\n",
       "      <td>54.99</td>\n",
       "      <td>Not specified</td>\n",
       "      <td>Not specified</td>\n",
       "      <td>123.0</td>\n",
       "      <td>53.0</td>\n",
       "      <td>5</td>\n",
       "      <td>Technical</td>\n",
       "      <td>1</td>\n",
       "      <td>2852724-1</td>\n",
       "      <td>0.919276</td>\n",
       "      <td>59.818826</td>\n",
       "      <td>59.818826</td>\n",
       "    </tr>\n",
       "    <tr>\n",
       "      <th>1677</th>\n",
       "      <td>2852725</td>\n",
       "      <td>Infrared Seeker</td>\n",
       "      <td>2011</td>\n",
       "      <td>Mindstorms</td>\n",
       "      <td>NXT</td>\n",
       "      <td>1.0</td>\n",
       "      <td>0.0</td>\n",
       "      <td>http://images.brickset.com/sets/images/2852725...</td>\n",
       "      <td>49.99</td>\n",
       "      <td>Not specified</td>\n",
       "      <td>Not specified</td>\n",
       "      <td>107.0</td>\n",
       "      <td>33.0</td>\n",
       "      <td>0</td>\n",
       "      <td>Technical</td>\n",
       "      <td>0</td>\n",
       "      <td>2852725-1</td>\n",
       "      <td>0.919276</td>\n",
       "      <td>54.379762</td>\n",
       "      <td>54.379762</td>\n",
       "    </tr>\n",
       "  </tbody>\n",
       "</table>\n",
       "</div>"
      ],
      "text/plain": [
       "     Item_Number                   Name  Year       Theme Subtheme  Pieces  \\\n",
       "959        45500  EV3 Intelligent Brick  2013  Mindstorms      EV3     1.0   \n",
       "1613       10285         Compass Sensor  2011  Mindstorms      NXT     1.0   \n",
       "1614       10286         Colour Sensor   2011  Mindstorms      NXT     1.0   \n",
       "1676     2852724   Accelerometer Sensor  2011  Mindstorms      NXT     1.0   \n",
       "1677     2852725        Infrared Seeker  2011  Mindstorms      NXT     1.0   \n",
       "\n",
       "      Minifigures                                          Image_URL  \\\n",
       "959           0.0  http://images.brickset.com/sets/images/45500-1...   \n",
       "1613          0.0  http://images.brickset.com/sets/images/10285-1...   \n",
       "1614          0.0  http://images.brickset.com/sets/images/10286-1...   \n",
       "1676          0.0  http://images.brickset.com/sets/images/2852724...   \n",
       "1677          0.0  http://images.brickset.com/sets/images/2852725...   \n",
       "\n",
       "      USD_MSRP      Packaging    Availability  wanted  owned rating  \\\n",
       "959     189.99  Not specified  LEGO exclusive   112.0   47.0      0   \n",
       "1613     54.99  Not specified   Not specified   124.0   62.0      3   \n",
       "1614     54.99  Not specified   Not specified    98.0   48.0      0   \n",
       "1676     54.99  Not specified   Not specified   123.0   53.0      5   \n",
       "1677     49.99  Not specified   Not specified   107.0   33.0      0   \n",
       "\n",
       "      theme_grp review_num   query_id  adjust_coef  adj_USD_MSRP  \\\n",
       "959   Technical          0    45500-1     0.969338    195.999716   \n",
       "1613  Technical          1    10285-1     0.919276     59.818826   \n",
       "1614  Technical          0    10286-1     0.919276     59.818826   \n",
       "1676  Technical          1  2852724-1     0.919276     59.818826   \n",
       "1677  Technical          0  2852725-1     0.919276     54.379762   \n",
       "\n",
       "      Price_per_piece  \n",
       "959        195.999716  \n",
       "1613        59.818826  \n",
       "1614        59.818826  \n",
       "1676        59.818826  \n",
       "1677        54.379762  "
      ]
     },
     "execution_count": 7,
     "metadata": {},
     "output_type": "execute_result"
    }
   ],
   "source": [
    "lego['Price_per_piece'] = lego.adj_USD_MSRP/lego.Pieces\n",
    "lego[lego.Price_per_piece>50].head()"
   ]
  },
  {
   "cell_type": "markdown",
   "metadata": {},
   "source": [
    "By looking at the table above we can conclude that the high 'price per piece' cases comes from mostly the Mindstorms theme. Mindstorms is a series of components made by Lego to allow users build complex mechanism. It is very widely used in robotics as we can see there are various sensors and transducers included. Due to the complexity the price of each piece would naturally be very high. Other unusually high priced pieces includes a play wall in the Duplo series which is like a table where you can build Lego on top."
   ]
  },
  {
   "cell_type": "markdown",
   "metadata": {},
   "source": [
    "## set_pieces EDA\n",
    "\n",
    "The Set_pieces contains data that relates individual pieces to various lego sets"
   ]
  },
  {
   "cell_type": "code",
   "execution_count": 4,
   "metadata": {
    "collapsed": false
   },
   "outputs": [
    {
     "data": {
      "text/html": [
       "<div>\n",
       "<table border=\"1\" class=\"dataframe\">\n",
       "  <thead>\n",
       "    <tr style=\"text-align: right;\">\n",
       "      <th></th>\n",
       "      <th>set_id</th>\n",
       "      <th>piece_id</th>\n",
       "      <th>num</th>\n",
       "      <th>color</th>\n",
       "      <th>type</th>\n",
       "    </tr>\n",
       "  </thead>\n",
       "  <tbody>\n",
       "    <tr>\n",
       "      <th>0</th>\n",
       "      <td>00-1</td>\n",
       "      <td>29c01</td>\n",
       "      <td>8</td>\n",
       "      <td>4</td>\n",
       "      <td>1</td>\n",
       "    </tr>\n",
       "    <tr>\n",
       "      <th>1</th>\n",
       "      <td>00-1</td>\n",
       "      <td>29c01</td>\n",
       "      <td>6</td>\n",
       "      <td>15</td>\n",
       "      <td>1</td>\n",
       "    </tr>\n",
       "    <tr>\n",
       "      <th>2</th>\n",
       "      <td>00-1</td>\n",
       "      <td>3001a</td>\n",
       "      <td>4</td>\n",
       "      <td>1</td>\n",
       "      <td>1</td>\n",
       "    </tr>\n",
       "    <tr>\n",
       "      <th>3</th>\n",
       "      <td>00-1</td>\n",
       "      <td>3001a</td>\n",
       "      <td>9</td>\n",
       "      <td>4</td>\n",
       "      <td>1</td>\n",
       "    </tr>\n",
       "    <tr>\n",
       "      <th>4</th>\n",
       "      <td>00-1</td>\n",
       "      <td>3001a</td>\n",
       "      <td>25</td>\n",
       "      <td>15</td>\n",
       "      <td>1</td>\n",
       "    </tr>\n",
       "  </tbody>\n",
       "</table>\n",
       "</div>"
      ],
      "text/plain": [
       "  set_id piece_id  num  color  type\n",
       "0   00-1    29c01    8      4     1\n",
       "1   00-1    29c01    6     15     1\n",
       "2   00-1    3001a    4      1     1\n",
       "3   00-1    3001a    9      4     1\n",
       "4   00-1    3001a   25     15     1"
      ]
     },
     "execution_count": 4,
     "metadata": {},
     "output_type": "execute_result"
    }
   ],
   "source": [
    "set_pieces = pd.read_sql('SELECT * FROM set_pieces', engine)\n",
    "set_pieces.head()"
   ]
  },
  {
   "cell_type": "markdown",
   "metadata": {},
   "source": [
    "#### Number of uniques pieces\n",
    "\n",
    "As color is recorded in as a seperate feature, the feature piece_id records the design and shape of a certain piece only. From the analysis there are more than 23615 unique shapes in this data set."
   ]
  },
  {
   "cell_type": "code",
   "execution_count": 9,
   "metadata": {
    "collapsed": false
   },
   "outputs": [
    {
     "data": {
      "text/plain": [
       "23615"
      ]
     },
     "execution_count": 9,
     "metadata": {},
     "output_type": "execute_result"
    }
   ],
   "source": [
    "len(set_pieces['piece_id'].value_counts())"
   ]
  },
  {
   "cell_type": "markdown",
   "metadata": {},
   "source": [
    "#### Number of uniques colours\n",
    "\n",
    "Similar to the above analysis, it is discovered that there are 131 unique colours"
   ]
  },
  {
   "cell_type": "code",
   "execution_count": 10,
   "metadata": {
    "collapsed": false
   },
   "outputs": [
    {
     "data": {
      "text/plain": [
       "131"
      ]
     },
     "execution_count": 10,
     "metadata": {},
     "output_type": "execute_result"
    }
   ],
   "source": [
    "len(set_pieces['color'].value_counts())"
   ]
  },
  {
   "cell_type": "markdown",
   "metadata": {},
   "source": [
    "#### Number of types\n",
    "\n",
    "There are 2 types of parts. The majority of the are type 1. This is beacause type 1 indicates normal parts and type 2 indicates spare parts "
   ]
  },
  {
   "cell_type": "code",
   "execution_count": 12,
   "metadata": {
    "collapsed": false
   },
   "outputs": [
    {
     "data": {
      "text/plain": [
       "1    521195\n",
       "2     25961\n",
       "Name: type, dtype: int64"
      ]
     },
     "execution_count": 12,
     "metadata": {},
     "output_type": "execute_result"
    }
   ],
   "source": [
    "set_pieces['type'].value_counts()"
   ]
  },
  {
   "cell_type": "code",
   "execution_count": 20,
   "metadata": {
    "collapsed": false
   },
   "outputs": [
    {
     "data": {
      "text/html": [
       "<div>\n",
       "<table border=\"1\" class=\"dataframe\">\n",
       "  <thead>\n",
       "    <tr style=\"text-align: right;\">\n",
       "      <th></th>\n",
       "      <th>piece_id</th>\n",
       "      <th>count</th>\n",
       "    </tr>\n",
       "  </thead>\n",
       "  <tbody>\n",
       "    <tr>\n",
       "      <th>0</th>\n",
       "      <td>3004</td>\n",
       "      <td>67743.0</td>\n",
       "    </tr>\n",
       "    <tr>\n",
       "      <th>1</th>\n",
       "      <td>3023</td>\n",
       "      <td>55164.0</td>\n",
       "    </tr>\n",
       "    <tr>\n",
       "      <th>2</th>\n",
       "      <td>6141</td>\n",
       "      <td>49874.0</td>\n",
       "    </tr>\n",
       "    <tr>\n",
       "      <th>3</th>\n",
       "      <td>3003</td>\n",
       "      <td>47561.0</td>\n",
       "    </tr>\n",
       "    <tr>\n",
       "      <th>4</th>\n",
       "      <td>3005</td>\n",
       "      <td>45749.0</td>\n",
       "    </tr>\n",
       "  </tbody>\n",
       "</table>\n",
       "</div>"
      ],
      "text/plain": [
       "  piece_id    count\n",
       "0     3004  67743.0\n",
       "1     3023  55164.0\n",
       "2     6141  49874.0\n",
       "3     3003  47561.0\n",
       "4     3005  45749.0"
      ]
     },
     "execution_count": 20,
     "metadata": {},
     "output_type": "execute_result"
    }
   ],
   "source": [
    "from pandas.io import sql\n",
    "engine = create_engine('postgresql://localhost/capstone')\n",
    "conn = engine.connect()\n",
    "sql.read_sql('''SELECT piece_id, SUM(num) AS count FROM set_pieces\n",
    "             GROUP BY piece_id\n",
    "             ORDER BY count DESC LIMIT 5;''', con=conn)"
   ]
  },
  {
   "cell_type": "code",
   "execution_count": 25,
   "metadata": {
    "collapsed": false
   },
   "outputs": [
    {
     "data": {
      "text/html": [
       "<div>\n",
       "<table border=\"1\" class=\"dataframe\">\n",
       "  <thead>\n",
       "    <tr style=\"text-align: right;\">\n",
       "      <th></th>\n",
       "      <th>piece_color</th>\n",
       "      <th>sum_num</th>\n",
       "    </tr>\n",
       "  </thead>\n",
       "  <tbody>\n",
       "    <tr>\n",
       "      <th>0</th>\n",
       "      <td>00-3_89</td>\n",
       "      <td>1.0</td>\n",
       "    </tr>\n",
       "    <tr>\n",
       "      <th>1</th>\n",
       "      <td>00-4_89</td>\n",
       "      <td>1.0</td>\n",
       "    </tr>\n",
       "    <tr>\n",
       "      <th>2</th>\n",
       "      <td>0687b1_9999</td>\n",
       "      <td>1.0</td>\n",
       "    </tr>\n",
       "    <tr>\n",
       "      <th>3</th>\n",
       "      <td>0901_2</td>\n",
       "      <td>1.0</td>\n",
       "    </tr>\n",
       "    <tr>\n",
       "      <th>4</th>\n",
       "      <td>00-2_89</td>\n",
       "      <td>1.0</td>\n",
       "    </tr>\n",
       "  </tbody>\n",
       "</table>\n",
       "</div>"
      ],
      "text/plain": [
       "   piece_color  sum_num\n",
       "0      00-3_89      1.0\n",
       "1      00-4_89      1.0\n",
       "2  0687b1_9999      1.0\n",
       "3       0901_2      1.0\n",
       "4      00-2_89      1.0"
      ]
     },
     "execution_count": 25,
     "metadata": {},
     "output_type": "execute_result"
    }
   ],
   "source": [
    "sql.read_sql(\"\"\"\n",
    "SELECT\n",
    "    piece_id || '_' || color AS piece_color,\n",
    "    SUM(num) AS sum_num\n",
    "FROM set_pieces\n",
    "GROUP BY piece_color\n",
    "ORDER BY sum_num ASC\n",
    "LIMIT 5\n",
    "\"\"\", con=conn).head()"
   ]
  },
  {
   "cell_type": "markdown",
   "metadata": {},
   "source": [
    "## Pieces EDA"
   ]
  },
  {
   "cell_type": "code",
   "execution_count": 15,
   "metadata": {
    "collapsed": false
   },
   "outputs": [
    {
     "data": {
      "text/html": [
       "<div>\n",
       "<table border=\"1\" class=\"dataframe\">\n",
       "  <thead>\n",
       "    <tr style=\"text-align: right;\">\n",
       "      <th></th>\n",
       "      <th>piece_id</th>\n",
       "      <th>descr</th>\n",
       "      <th>category</th>\n",
       "    </tr>\n",
       "  </thead>\n",
       "  <tbody>\n",
       "    <tr>\n",
       "      <th>0</th>\n",
       "      <td>15068</td>\n",
       "      <td>Slope Curved 2 x 2 x 2/3</td>\n",
       "      <td>Bricks Curved</td>\n",
       "    </tr>\n",
       "    <tr>\n",
       "      <th>1</th>\n",
       "      <td>3665</td>\n",
       "      <td>Slope Inverted 45° 2 x 1</td>\n",
       "      <td>Bricks Sloped</td>\n",
       "    </tr>\n",
       "    <tr>\n",
       "      <th>2</th>\n",
       "      <td>60131stk01</td>\n",
       "      <td>Sticker for Set 60131 - (24555/6133223)</td>\n",
       "      <td>Non-LEGO</td>\n",
       "    </tr>\n",
       "    <tr>\n",
       "      <th>3</th>\n",
       "      <td>99460</td>\n",
       "      <td>BANDAGE 4,5x20</td>\n",
       "      <td>Other</td>\n",
       "    </tr>\n",
       "    <tr>\n",
       "      <th>4</th>\n",
       "      <td>98192</td>\n",
       "      <td>FEEDING RACK</td>\n",
       "      <td>Other</td>\n",
       "    </tr>\n",
       "  </tbody>\n",
       "</table>\n",
       "</div>"
      ],
      "text/plain": [
       "     piece_id                                    descr       category\n",
       "0       15068                 Slope Curved 2 x 2 x 2/3  Bricks Curved\n",
       "1        3665                 Slope Inverted 45° 2 x 1  Bricks Sloped\n",
       "2  60131stk01  Sticker for Set 60131 - (24555/6133223)       Non-LEGO\n",
       "3       99460                           BANDAGE 4,5x20          Other\n",
       "4       98192                             FEEDING RACK          Other"
      ]
     },
     "execution_count": 15,
     "metadata": {},
     "output_type": "execute_result"
    }
   ],
   "source": [
    "pieces = pd.read_sql('SELECT * FROM pieces', engine)\n",
    "pieces.head()"
   ]
  },
  {
   "cell_type": "code",
   "execution_count": 20,
   "metadata": {
    "collapsed": false
   },
   "outputs": [
    {
     "data": {
      "image/png": "[encoded data removed]",
      "text/plain": [
       "<matplotlib.figure.Figure at 0x121c3da50>"
      ]
     },
     "metadata": {},
     "output_type": "display_data"
    }
   ],
   "source": [
    "fig = plt.figure()\n",
    "ax = fig.add_subplot(111)\n",
    "pieces.category.value_counts()[:20].plot(kind='barh', figsize=(10,7),color='midnightblue',alpha=.7,ax=ax)\n",
    "ax.set(xlabel='Count', ylabel='Piece category', title='Top 20 piece categories')\n",
    "plt.show()"
   ]
  },
  {
   "cell_type": "markdown",
   "metadata": {},
   "source": [
    "The parts categoreis are shown in the plot above. It can be seen that Minifig accoutns for most of the varieties. This could be due to the fact that larger builds require the combinations of many standard parts. However as Minifigures are usually unique (in terms of design and printing on the body, legs and heads), it is expected that they have a lot of varieties.\n",
    "\n",
    "## Data dictionary\n",
    "\n",
    "A data dictionary is created in order to easily identify and naviagate between data sets."
   ]
  },
  {
   "cell_type": "code",
   "execution_count": null,
   "metadata": {
    "collapsed": true
   },
   "outputs": [],
   "source": [
    "data = {'lego':lego,\n",
    "        'set_pieces':set_pieces,\n",
    "        'pieces':pieces}"
   ]
  },
  {
   "cell_type": "markdown",
   "metadata": {},
   "source": [
    "Save the cleaned data set to the PostgreSQL database"
   ]
  },
  {
   "cell_type": "code",
   "execution_count": 238,
   "metadata": {
    "collapsed": true
   },
   "outputs": [],
   "source": [
    "lego.to_sql('lego_cleaned_temp',engine,index=False)"
   ]
  },
  {
   "cell_type": "code",
   "execution_count": 5,
   "metadata": {
    "collapsed": false
   },
   "outputs": [
    {
     "data": {
      "text/plain": [
       "23615"
      ]
     },
     "execution_count": 5,
     "metadata": {},
     "output_type": "execute_result"
    }
   ],
   "source": [
    "len(set_pieces.piece_id.value_counts())"
   ]
  },
  {
   "cell_type": "code",
   "execution_count": 8,
   "metadata": {
    "collapsed": false
   },
   "outputs": [],
   "source": [
    "set_pieces['piece_color'] = set_pieces.piece_id + '_' + set_pieces.color.astype(str)"
   ]
  },
  {
   "cell_type": "code",
   "execution_count": 13,
   "metadata": {
    "collapsed": false
   },
   "outputs": [],
   "source": [
    "piece_color = pd.get_dummies(set_pieces.piece_color)"
   ]
  },
  {
   "cell_type": "code",
   "execution_count": null,
   "metadata": {
    "collapsed": false
   },
   "outputs": [],
   "source": [
    "for i in range(len(set_pieces)):\n",
    "    target = set_pieces.ix[i,'piece_color']\n",
    "    piece_color.ix[i,target] = set_pieces.ix[i,'num']"
   ]
  },
  {
   "cell_type": "code",
   "execution_count": 9,
   "metadata": {
    "collapsed": false
   },
   "outputs": [],
   "source": [
    "piece_color = set_pieces.piece_color.unique()\n",
    "set_id = set_pieces.set_id.unique()"
   ]
  },
  {
   "cell_type": "code",
   "execution_count": 10,
   "metadata": {
    "collapsed": false
   },
   "outputs": [
    {
     "data": {
      "text/html": [
       "<div>\n",
       "<table border=\"1\" class=\"dataframe\">\n",
       "  <thead>\n",
       "    <tr style=\"text-align: right;\">\n",
       "      <th></th>\n",
       "      <th>29c01_4</th>\n",
       "      <th>29c01_15</th>\n",
       "      <th>3001a_1</th>\n",
       "      <th>3001a_4</th>\n",
       "      <th>3001a_15</th>\n",
       "      <th>3002a_4</th>\n",
       "      <th>3002a_15</th>\n",
       "      <th>3003_1</th>\n",
       "      <th>3003_14</th>\n",
       "      <th>3003_15</th>\n",
       "      <th>...</th>\n",
       "      <th>6564-1_-1</th>\n",
       "      <th>7130-1_-1</th>\n",
       "      <th>7150-1_-1</th>\n",
       "      <th>973pr1184c01_272</th>\n",
       "      <th>973pb1144c01_25</th>\n",
       "      <th>973pb1145c01_15</th>\n",
       "      <th>973pb1146c01_71</th>\n",
       "      <th>6712-1_-1</th>\n",
       "      <th>6716-1_-1</th>\n",
       "      <th>6755-1_-1</th>\n",
       "    </tr>\n",
       "  </thead>\n",
       "  <tbody>\n",
       "    <tr>\n",
       "      <th>00-1</th>\n",
       "      <td>NaN</td>\n",
       "      <td>NaN</td>\n",
       "      <td>NaN</td>\n",
       "      <td>NaN</td>\n",
       "      <td>NaN</td>\n",
       "      <td>NaN</td>\n",
       "      <td>NaN</td>\n",
       "      <td>NaN</td>\n",
       "      <td>NaN</td>\n",
       "      <td>NaN</td>\n",
       "      <td>...</td>\n",
       "      <td>NaN</td>\n",
       "      <td>NaN</td>\n",
       "      <td>NaN</td>\n",
       "      <td>NaN</td>\n",
       "      <td>NaN</td>\n",
       "      <td>NaN</td>\n",
       "      <td>NaN</td>\n",
       "      <td>NaN</td>\n",
       "      <td>NaN</td>\n",
       "      <td>NaN</td>\n",
       "    </tr>\n",
       "    <tr>\n",
       "      <th>0011-2</th>\n",
       "      <td>NaN</td>\n",
       "      <td>NaN</td>\n",
       "      <td>NaN</td>\n",
       "      <td>NaN</td>\n",
       "      <td>NaN</td>\n",
       "      <td>NaN</td>\n",
       "      <td>NaN</td>\n",
       "      <td>NaN</td>\n",
       "      <td>NaN</td>\n",
       "      <td>NaN</td>\n",
       "      <td>...</td>\n",
       "      <td>NaN</td>\n",
       "      <td>NaN</td>\n",
       "      <td>NaN</td>\n",
       "      <td>NaN</td>\n",
       "      <td>NaN</td>\n",
       "      <td>NaN</td>\n",
       "      <td>NaN</td>\n",
       "      <td>NaN</td>\n",
       "      <td>NaN</td>\n",
       "      <td>NaN</td>\n",
       "    </tr>\n",
       "    <tr>\n",
       "      <th>0011-3</th>\n",
       "      <td>NaN</td>\n",
       "      <td>NaN</td>\n",
       "      <td>NaN</td>\n",
       "      <td>NaN</td>\n",
       "      <td>NaN</td>\n",
       "      <td>NaN</td>\n",
       "      <td>NaN</td>\n",
       "      <td>NaN</td>\n",
       "      <td>NaN</td>\n",
       "      <td>NaN</td>\n",
       "      <td>...</td>\n",
       "      <td>NaN</td>\n",
       "      <td>NaN</td>\n",
       "      <td>NaN</td>\n",
       "      <td>NaN</td>\n",
       "      <td>NaN</td>\n",
       "      <td>NaN</td>\n",
       "      <td>NaN</td>\n",
       "      <td>NaN</td>\n",
       "      <td>NaN</td>\n",
       "      <td>NaN</td>\n",
       "    </tr>\n",
       "  </tbody>\n",
       "</table>\n",
       "<p>3 rows × 43306 columns</p>\n",
       "</div>"
      ],
      "text/plain": [
       "        29c01_4  29c01_15  3001a_1  3001a_4  3001a_15  3002a_4  3002a_15  \\\n",
       "00-1        NaN       NaN      NaN      NaN       NaN      NaN       NaN   \n",
       "0011-2      NaN       NaN      NaN      NaN       NaN      NaN       NaN   \n",
       "0011-3      NaN       NaN      NaN      NaN       NaN      NaN       NaN   \n",
       "\n",
       "        3003_1  3003_14  3003_15    ...      6564-1_-1  7130-1_-1  7150-1_-1  \\\n",
       "00-1       NaN      NaN      NaN    ...            NaN        NaN        NaN   \n",
       "0011-2     NaN      NaN      NaN    ...            NaN        NaN        NaN   \n",
       "0011-3     NaN      NaN      NaN    ...            NaN        NaN        NaN   \n",
       "\n",
       "        973pr1184c01_272  973pb1144c01_25  973pb1145c01_15  973pb1146c01_71  \\\n",
       "00-1                 NaN              NaN              NaN              NaN   \n",
       "0011-2               NaN              NaN              NaN              NaN   \n",
       "0011-3               NaN              NaN              NaN              NaN   \n",
       "\n",
       "        6712-1_-1  6716-1_-1  6755-1_-1  \n",
       "00-1          NaN        NaN        NaN  \n",
       "0011-2        NaN        NaN        NaN  \n",
       "0011-3        NaN        NaN        NaN  \n",
       "\n",
       "[3 rows x 43306 columns]"
      ]
     },
     "execution_count": 10,
     "metadata": {},
     "output_type": "execute_result"
    }
   ],
   "source": [
    "set_pieces_df = pd.DataFrame(np.nan, index=set_id, columns=piece_color)\n",
    "set_pieces_df.head(3)"
   ]
  },
  {
   "cell_type": "code",
   "execution_count": 14,
   "metadata": {
    "collapsed": false
   },
   "outputs": [],
   "source": [
    "for i in range(len(set_pieces)):\n",
    "    tar_set = set_pieces.ix[i,'set_id']\n",
    "    tar_pc = set_pieces.ix[i,'piece_color']\n",
    "    set_pieces_df.loc[tar_set,tar_pc] = set_pieces.ix[i,'num']"
   ]
  },
  {
   "cell_type": "code",
   "execution_count": 12,
   "metadata": {
    "collapsed": false
   },
   "outputs": [
    {
     "data": {
      "text/plain": [
       "nan"
      ]
     },
     "execution_count": 12,
     "metadata": {},
     "output_type": "execute_result"
    }
   ],
   "source": [
    "set_pieces_df.loc['00-1','29c01_4']"
   ]
  },
  {
   "cell_type": "code",
   "execution_count": 20,
   "metadata": {
    "collapsed": false
   },
   "outputs": [],
   "source": [
    "set_pieces_df = set_pieces_df.fillna(0)"
   ]
  },
  {
   "cell_type": "code",
   "execution_count": 21,
   "metadata": {
    "collapsed": false
   },
   "outputs": [],
   "source": [
    "set_pieces_df.to_csv('set_pieces_transformed.csv',index=False)"
   ]
  },
  {
   "cell_type": "code",
   "execution_count": 22,
   "metadata": {
    "collapsed": false
   },
   "outputs": [
    {
     "data": {
      "text/html": [
       "<div>\n",
       "<table border=\"1\" class=\"dataframe\">\n",
       "  <thead>\n",
       "    <tr style=\"text-align: right;\">\n",
       "      <th></th>\n",
       "      <th>29c01_4</th>\n",
       "      <th>29c01_15</th>\n",
       "      <th>3001a_1</th>\n",
       "      <th>3001a_4</th>\n",
       "      <th>3001a_15</th>\n",
       "      <th>3002a_4</th>\n",
       "      <th>3002a_15</th>\n",
       "      <th>3003_1</th>\n",
       "      <th>3003_14</th>\n",
       "      <th>3003_15</th>\n",
       "      <th>...</th>\n",
       "      <th>6564-1_-1</th>\n",
       "      <th>7130-1_-1</th>\n",
       "      <th>7150-1_-1</th>\n",
       "      <th>973pr1184c01_272</th>\n",
       "      <th>973pb1144c01_25</th>\n",
       "      <th>973pb1145c01_15</th>\n",
       "      <th>973pb1146c01_71</th>\n",
       "      <th>6712-1_-1</th>\n",
       "      <th>6716-1_-1</th>\n",
       "      <th>6755-1_-1</th>\n",
       "    </tr>\n",
       "  </thead>\n",
       "  <tbody>\n",
       "    <tr>\n",
       "      <th>00-1</th>\n",
       "      <td>8.0</td>\n",
       "      <td>6.0</td>\n",
       "      <td>4.0</td>\n",
       "      <td>9.0</td>\n",
       "      <td>25.0</td>\n",
       "      <td>6.0</td>\n",
       "      <td>16.0</td>\n",
       "      <td>3.0</td>\n",
       "      <td>4.0</td>\n",
       "      <td>5.0</td>\n",
       "      <td>...</td>\n",
       "      <td>0.0</td>\n",
       "      <td>0.0</td>\n",
       "      <td>0.0</td>\n",
       "      <td>0.0</td>\n",
       "      <td>0.0</td>\n",
       "      <td>0.0</td>\n",
       "      <td>0.0</td>\n",
       "      <td>0.0</td>\n",
       "      <td>0.0</td>\n",
       "      <td>0.0</td>\n",
       "    </tr>\n",
       "    <tr>\n",
       "      <th>0011-2</th>\n",
       "      <td>0.0</td>\n",
       "      <td>0.0</td>\n",
       "      <td>0.0</td>\n",
       "      <td>0.0</td>\n",
       "      <td>0.0</td>\n",
       "      <td>0.0</td>\n",
       "      <td>0.0</td>\n",
       "      <td>0.0</td>\n",
       "      <td>0.0</td>\n",
       "      <td>0.0</td>\n",
       "      <td>...</td>\n",
       "      <td>0.0</td>\n",
       "      <td>0.0</td>\n",
       "      <td>0.0</td>\n",
       "      <td>0.0</td>\n",
       "      <td>0.0</td>\n",
       "      <td>0.0</td>\n",
       "      <td>0.0</td>\n",
       "      <td>0.0</td>\n",
       "      <td>0.0</td>\n",
       "      <td>0.0</td>\n",
       "    </tr>\n",
       "    <tr>\n",
       "      <th>0011-3</th>\n",
       "      <td>0.0</td>\n",
       "      <td>0.0</td>\n",
       "      <td>0.0</td>\n",
       "      <td>0.0</td>\n",
       "      <td>0.0</td>\n",
       "      <td>0.0</td>\n",
       "      <td>0.0</td>\n",
       "      <td>0.0</td>\n",
       "      <td>0.0</td>\n",
       "      <td>0.0</td>\n",
       "      <td>...</td>\n",
       "      <td>0.0</td>\n",
       "      <td>0.0</td>\n",
       "      <td>0.0</td>\n",
       "      <td>0.0</td>\n",
       "      <td>0.0</td>\n",
       "      <td>0.0</td>\n",
       "      <td>0.0</td>\n",
       "      <td>0.0</td>\n",
       "      <td>0.0</td>\n",
       "      <td>0.0</td>\n",
       "    </tr>\n",
       "    <tr>\n",
       "      <th>0012-1</th>\n",
       "      <td>0.0</td>\n",
       "      <td>0.0</td>\n",
       "      <td>0.0</td>\n",
       "      <td>0.0</td>\n",
       "      <td>0.0</td>\n",
       "      <td>0.0</td>\n",
       "      <td>0.0</td>\n",
       "      <td>0.0</td>\n",
       "      <td>0.0</td>\n",
       "      <td>0.0</td>\n",
       "      <td>...</td>\n",
       "      <td>0.0</td>\n",
       "      <td>0.0</td>\n",
       "      <td>0.0</td>\n",
       "      <td>0.0</td>\n",
       "      <td>0.0</td>\n",
       "      <td>0.0</td>\n",
       "      <td>0.0</td>\n",
       "      <td>0.0</td>\n",
       "      <td>0.0</td>\n",
       "      <td>0.0</td>\n",
       "    </tr>\n",
       "    <tr>\n",
       "      <th>0013-1</th>\n",
       "      <td>0.0</td>\n",
       "      <td>0.0</td>\n",
       "      <td>0.0</td>\n",
       "      <td>0.0</td>\n",
       "      <td>0.0</td>\n",
       "      <td>0.0</td>\n",
       "      <td>0.0</td>\n",
       "      <td>0.0</td>\n",
       "      <td>0.0</td>\n",
       "      <td>0.0</td>\n",
       "      <td>...</td>\n",
       "      <td>0.0</td>\n",
       "      <td>0.0</td>\n",
       "      <td>0.0</td>\n",
       "      <td>0.0</td>\n",
       "      <td>0.0</td>\n",
       "      <td>0.0</td>\n",
       "      <td>0.0</td>\n",
       "      <td>0.0</td>\n",
       "      <td>0.0</td>\n",
       "      <td>0.0</td>\n",
       "    </tr>\n",
       "  </tbody>\n",
       "</table>\n",
       "<p>5 rows × 43306 columns</p>\n",
       "</div>"
      ],
      "text/plain": [
       "        29c01_4  29c01_15  3001a_1  3001a_4  3001a_15  3002a_4  3002a_15  \\\n",
       "00-1        8.0       6.0      4.0      9.0      25.0      6.0      16.0   \n",
       "0011-2      0.0       0.0      0.0      0.0       0.0      0.0       0.0   \n",
       "0011-3      0.0       0.0      0.0      0.0       0.0      0.0       0.0   \n",
       "0012-1      0.0       0.0      0.0      0.0       0.0      0.0       0.0   \n",
       "0013-1      0.0       0.0      0.0      0.0       0.0      0.0       0.0   \n",
       "\n",
       "        3003_1  3003_14  3003_15    ...      6564-1_-1  7130-1_-1  7150-1_-1  \\\n",
       "00-1       3.0      4.0      5.0    ...            0.0        0.0        0.0   \n",
       "0011-2     0.0      0.0      0.0    ...            0.0        0.0        0.0   \n",
       "0011-3     0.0      0.0      0.0    ...            0.0        0.0        0.0   \n",
       "0012-1     0.0      0.0      0.0    ...            0.0        0.0        0.0   \n",
       "0013-1     0.0      0.0      0.0    ...            0.0        0.0        0.0   \n",
       "\n",
       "        973pr1184c01_272  973pb1144c01_25  973pb1145c01_15  973pb1146c01_71  \\\n",
       "00-1                 0.0              0.0              0.0              0.0   \n",
       "0011-2               0.0              0.0              0.0              0.0   \n",
       "0011-3               0.0              0.0              0.0              0.0   \n",
       "0012-1               0.0              0.0              0.0              0.0   \n",
       "0013-1               0.0              0.0              0.0              0.0   \n",
       "\n",
       "        6712-1_-1  6716-1_-1  6755-1_-1  \n",
       "00-1          0.0        0.0        0.0  \n",
       "0011-2        0.0        0.0        0.0  \n",
       "0011-3        0.0        0.0        0.0  \n",
       "0012-1        0.0        0.0        0.0  \n",
       "0013-1        0.0        0.0        0.0  \n",
       "\n",
       "[5 rows x 43306 columns]"
      ]
     },
     "execution_count": 22,
     "metadata": {},
     "output_type": "execute_result"
    }
   ],
   "source": [
    "set_pieces_df.head()"
   ]
  },
  {
   "cell_type": "code",
   "execution_count": null,
   "metadata": {
    "collapsed": true
   },
   "outputs": [],
   "source": [
    " "
   ]
  }
 ],
 "metadata": {
  "kernelspec": {
   "display_name": "Python 2",
   "language": "python",
   "name": "python2"
  },
  "language_info": {
   "codemirror_mode": {
    "name": "ipython",
    "version": 2
   },
   "file_extension": ".py",
   "mimetype": "text/x-python",
   "name": "python",
   "nbconvert_exporter": "python",
   "pygments_lexer": "ipython2",
   "version": "2.7.12"
  }
 },
 "nbformat": 4,
 "nbformat_minor": 0
}
