{
 "cells": [
  {
   "cell_type": "markdown",
   "metadata": {},
   "source": [
    "## Change in price of Lego sets (data obtained 20/12/2016) full_box + final_full_box\n",
    "\n",
    "Every Lego sets have a Manufacturer Suggested Retail Price which, obviously, is a guideline provided by Lego to help individual retailers in pricing their products. However du to different real world situations the true retail price of these Lego sets can deviate from the MSRP. For example if a Lego set is discontinued, its price might tend to increase. On the other hand if new versions of the same set are released, it might bring down the price of an older set. Therefore in this investigation, we are going to compare the current price with their respective MSRP and see if there are certain factors that affects these price changes.\n",
    "\n",
    "### Limit investigations\n",
    "\n",
    "From the initial analysis we know that there are many ways to group different Lego sets. "
   ]
  },
  {
   "cell_type": "code",
   "execution_count": 4,
   "metadata": {
    "collapsed": false
   },
   "outputs": [],
   "source": [
    "import pandas as pd\n",
    "import numpy as np\n",
    "import pickle\n",
    "import matplotlib.pyplot as plt\n",
    "import seaborn as sns\n",
    "\n",
    "price_dic = pickle.load(open('trial_box.pkl','r'))"
   ]
  },
  {
   "cell_type": "code",
   "execution_count": 5,
   "metadata": {
    "collapsed": false
   },
   "outputs": [
    {
     "data": {
      "text/plain": [
       "['70784-1', '5623-1', '5983-1', '10543-1', '75055-1']"
      ]
     },
     "execution_count": 5,
     "metadata": {},
     "output_type": "execute_result"
    }
   ],
   "source": [
    "price_dic.keys()[:5]"
   ]
  },
  {
   "cell_type": "code",
   "execution_count": null,
   "metadata": {
    "collapsed": true
   },
   "outputs": [],
   "source": []
  }
 ],
 "metadata": {
  "kernelspec": {
   "display_name": "Python 2",
   "language": "python",
   "name": "python2"
  },
  "language_info": {
   "codemirror_mode": {
    "name": "ipython",
    "version": 2
   },
   "file_extension": ".py",
   "mimetype": "text/x-python",
   "name": "python",
   "nbconvert_exporter": "python",
   "pygments_lexer": "ipython2",
   "version": "2.7.12"
  }
 },
 "nbformat": 4,
 "nbformat_minor": 0
}
