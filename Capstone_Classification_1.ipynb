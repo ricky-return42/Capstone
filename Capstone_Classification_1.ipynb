{
 "cells": [
  {
   "cell_type": "markdown",
   "metadata": {},
   "source": [
    "# Capstone 1st classification analysis on desirable Lego sets. \n",
    "\n",
    "Apart from trying to predict MSRP for Lego sets, the other aim of the project is to successfully classify Lego sets into categories of being nomal sets or desirable sets. The success criteria is to perform better than the baseline accuracy which is yet to be determined. From the EDA we have concluded that the 'wanted' column will be used as our metric. A threshold value would be set and depending on the counts for each instance in the wanted column, they will be classified as being either desirable or normal. It would be reasonable to start oof with such categorsation."
   ]
  },
  {
   "cell_type": "code",
   "execution_count": 1,
   "metadata": {
    "collapsed": false
   },
   "outputs": [
    {
     "name": "stderr",
     "output_type": "stream",
     "text": [
      "//anaconda/lib/python2.7/site-packages/sklearn/cross_validation.py:44: DeprecationWarning: This module was deprecated in version 0.18 in favor of the model_selection module into which all the refactored classes and functions are moved. Also note that the interface of the new CV iterators are different from that of this module. This module will be removed in 0.20.\n",
      "  \"This module will be removed in 0.20.\", DeprecationWarning)\n",
      "//anaconda/lib/python2.7/site-packages/sklearn/grid_search.py:43: DeprecationWarning: This module was deprecated in version 0.18 in favor of the model_selection module into which all the refactored classes and functions are moved. This module will be removed in 0.20.\n",
      "  DeprecationWarning)\n"
     ]
    }
   ],
   "source": [
    "from sqlalchemy import create_engine\n",
    "import pandas as pd\n",
    "import numpy as np\n",
    "import matplotlib.pyplot as plt\n",
    "import seaborn as sns\n",
    "from sklearn.decomposition import PCA\n",
    "from sklearn.grid_search import GridSearchCV\n",
    "from sklearn.feature_selection import RFECV\n",
    "from sklearn.neighbors import KNeighborsClassifier\n",
    "from sklearn.svm import SVC\n",
    "from sklearn.discriminant_analysis import LinearDiscriminantAnalysis\n",
    "from sklearn.tree import DecisionTreeClassifier\n",
    "from sklearn.ensemble import RandomForestClassifier,ExtraTreesClassifier,GradientBoostingClassifier,AdaBoostClassifier\n",
    "from sklearn.linear_model import LogisticRegression\n",
    "from sklearn.model_selection import cross_val_score, cross_val_predict, train_test_split\n",
    "from sklearn.preprocessing import StandardScaler, MinMaxScaler\n",
    "from sklearn.metrics import accuracy_score, roc_auc_score, auc, classification_report, confusion_matrix, precision_score, recall_score, f1_score\n",
    "%matplotlib inline"
   ]
  },
  {
   "cell_type": "markdown",
   "metadata": {},
   "source": [
    "Just like what we have done in the regression analysis, we have to clean the data frame in order to perform our analysis"
   ]
  },
  {
   "cell_type": "code",
   "execution_count": 2,
   "metadata": {
    "collapsed": false
   },
   "outputs": [],
   "source": [
    "engine = create_engine('postgresql://localhost/capstone')\n",
    "lego = pd.read_sql('SELECT * FROM lego_cleaned_temp', engine)\n",
    "lego = lego.drop(['Item_Number','Name','Image_URL','USD_MSRP','query_id','adjust_coef'], axis=1)\n",
    "theme = pd.get_dummies(lego.Theme, drop_first=True)\n",
    "subtheme = pd.get_dummies(lego.Subtheme, drop_first=True)\n",
    "packaging = pd.get_dummies(lego.Packaging, drop_first=True)\n",
    "availability = pd.get_dummies(lego.Availability, drop_first=True)\n",
    "theme_grp = pd.get_dummies(lego.theme_grp, drop_first=True)\n",
    "lego = lego.drop(['Theme','Subtheme','Packaging','Availability','theme_grp'],axis=1)\n",
    "lego_w_dummies = pd.concat([lego,theme,subtheme,packaging,availability,theme_grp],axis=1)\n",
    "lego_w_dummies.rating = lego_w_dummies.rating.astype(float)\n",
    "lego_w_dummies.review_num = lego_w_dummies.review_num.astype(float)"
   ]
  },
  {
   "cell_type": "markdown",
   "metadata": {},
   "source": [
    "A new column which serve as the classification labels is to be created. At this point we would have to define a threshold line to determine which sets are desirable. This threshold can be set at the 80 percentile hence dividing the data into 2 groups with the top 20% being desriable. This sets our baseline accuracy to 80%. This is becuase if we blindly guess that all instances have a label of 0, we will get an 80% accuracy. Therefore a good model should perform better than this accuracy."
   ]
  },
  {
   "cell_type": "code",
   "execution_count": 3,
   "metadata": {
    "collapsed": false
   },
   "outputs": [
    {
     "data": {
      "text/plain": [
       "1091.0"
      ]
     },
     "execution_count": 3,
     "metadata": {},
     "output_type": "execute_result"
    }
   ],
   "source": [
    "np.percentile(lego.wanted, 80)"
   ]
  },
  {
   "cell_type": "code",
   "execution_count": 4,
   "metadata": {
    "collapsed": true
   },
   "outputs": [],
   "source": [
    "lego_w_dummies['labels'] = lego_w_dummies.wanted.apply(lambda x:0 if x<1091 else 1)"
   ]
  },
  {
   "cell_type": "code",
   "execution_count": 5,
   "metadata": {
    "collapsed": false
   },
   "outputs": [
    {
     "data": {
      "text/plain": [
       "0    4832\n",
       "1    1211\n",
       "Name: labels, dtype: int64"
      ]
     },
     "execution_count": 5,
     "metadata": {},
     "output_type": "execute_result"
    }
   ],
   "source": [
    "lego_w_dummies['labels'].value_counts()"
   ]
  },
  {
   "cell_type": "markdown",
   "metadata": {},
   "source": [
    "The next step is to create the features and label matrix respectively"
   ]
  },
  {
   "cell_type": "code",
   "execution_count": 6,
   "metadata": {
    "collapsed": true
   },
   "outputs": [],
   "source": [
    "X = lego_w_dummies.drop(['wanted','labels'], axis=1)\n",
    "y = lego_w_dummies['labels']"
   ]
  },
  {
   "cell_type": "markdown",
   "metadata": {},
   "source": [
    "For the same reason as in the regression analysis, a train-test split is be carried out in order to prevent overfitting. Again this operation divides the data into a training set and a testing set. This allows us to fit the model with the train data and test it with the unseen test data. Typically the train data would include the majority of instances in the data set to allow good model fit. In this case, it is decided that a 4:1 train-test split to be used."
   ]
  },
  {
   "cell_type": "code",
   "execution_count": 7,
   "metadata": {
    "collapsed": true
   },
   "outputs": [],
   "source": [
    "X_train, X_test, y_train, y_test = train_test_split(X,y,test_size=0.2,random_state=42)"
   ]
  },
  {
   "cell_type": "markdown",
   "metadata": {},
   "source": [
    "The first model to try is Logistic Regression. Similar to Linear Regression used in predicting MSRP, Logistic Regression is also a linear model. It relates the log of odds being positive (label = 1) to the predicting features. The assumption of the the model is that the log of odds varies linearly with the predicting features. The advantage of this model is that it is easy to understand. Also being a linear model it is relatively simple and quick to fit hence is suitable to be used as the first model. "
   ]
  },
  {
   "cell_type": "code",
   "execution_count": 15,
   "metadata": {
    "collapsed": true
   },
   "outputs": [],
   "source": [
    "clf = LogisticRegression()\n",
    "model = clf.fit(X_train,y_train)\n",
    "pred = model.predict(X_test)"
   ]
  },
  {
   "cell_type": "code",
   "execution_count": 16,
   "metadata": {
    "collapsed": false
   },
   "outputs": [
    {
     "name": "stdout",
     "output_type": "stream",
     "text": [
      "Accuracy:  0.93217535153\n",
      "ROCAUC:  0.884449369077\n",
      "             precision    recall  f1-score   support\n",
      "\n",
      "          0       0.95      0.97      0.96       956\n",
      "          1       0.86      0.80      0.83       253\n",
      "\n",
      "avg / total       0.93      0.93      0.93      1209\n",
      "\n",
      "[[924  32]\n",
      " [ 50 203]]\n"
     ]
    }
   ],
   "source": [
    "print 'Accuracy: ',accuracy_score(y_test,pred)\n",
    "print 'ROCAUC: ',roc_auc_score(y_test,pred)\n",
    "print classification_report(y_test,pred)\n",
    "print confusion_matrix(y_test,pred)"
   ]
  },
  {
   "cell_type": "markdown",
   "metadata": {},
   "source": [
    "The results above shows that Logistic Regression has a very respectable performance of 93% accuracy. This is complemented with a good ROC score of 0.88. ROC score describes the area under the ROC curve. In the Scikit Learn implementation, the baseline ROC score would be 0.5. That means if you are randomly guessing, the mean ROC score that you would likely to get is very close to 0.5.\n",
    "\n",
    "Looking at the classification report, it seems that the model is better at classifying labels with 0s than labels with 1s. This is expected because we have much more instances that have a true label of 0. However it should be noted that this train-test split is not stratified. Therefore a model performing well in this case might not perform well in other cases where the data is splitted differently. In order to varify that we have got a stable model, a 10 fold cross validation is carried out with the training data to let us gain more insight."
   ]
  },
  {
   "cell_type": "code",
   "execution_count": 19,
   "metadata": {
    "collapsed": false
   },
   "outputs": [
    {
     "name": "stdout",
     "output_type": "stream",
     "text": [
      "Average accuracy:  0.94352692516\n",
      "[ 0.96280992  0.95661157  0.90909091  0.92975207  0.93801653  0.95041322\n",
      "  0.93581781  0.97101449  0.95850622  0.92323651]\n"
     ]
    }
   ],
   "source": [
    "score = cross_val_score(clf,X_train,y_train,cv=10)\n",
    "print 'Average accuracy: ',np.mean(score)\n",
    "print score"
   ]
  },
  {
   "cell_type": "code",
   "execution_count": 21,
   "metadata": {
    "collapsed": false
   },
   "outputs": [
    {
     "data": {
      "text/plain": [
       "0.01856741849456477"
      ]
     },
     "execution_count": 21,
     "metadata": {},
     "output_type": "execute_result"
    }
   ],
   "source": [
    "np.std(score)"
   ]
  },
  {
   "cell_type": "markdown",
   "metadata": {},
   "source": [
    "The average accuracy is 94.4% with a minimum accuracy of 90.9% and maximum accuracy of 97.1%. The standard deviation is 0.0186 which can be translated to an understanding that 95% of the accuracy is likely to fall between 94.4% +- 3.6%. This is sufficient to prove that our model is relatively stable and should be able to handle unseen data with reasonable performance. However it is still possible to try improving this model.\n",
    "\n",
    "The first step is to use Grid Search in order to find out the optimum hyper-parameter for Logistic Regression classifier."
   ]
  },
  {
   "cell_type": "code",
   "execution_count": 22,
   "metadata": {
    "collapsed": false
   },
   "outputs": [
    {
     "name": "stdout",
     "output_type": "stream",
     "text": [
      "Best parameters:  {'penalty': 'l1', 'C': 10.0}\n",
      "Best accuracy:  0.950558543649\n"
     ]
    }
   ],
   "source": [
    "params = {'penalty':['l1','l2'], 'C':np.logspace(-2,2,5)}\n",
    "model = GridSearchCV(clf,params,cv=10).fit(X_train,y_train)\n",
    "print 'Best parameters: ',model.best_params_\n",
    "print 'Best accuracy: ',model.best_score_"
   ]
  },
  {
   "cell_type": "code",
   "execution_count": 23,
   "metadata": {
    "collapsed": false
   },
   "outputs": [
    {
     "name": "stdout",
     "output_type": "stream",
     "text": [
      "Accuracy:  0.94540942928\n",
      "ROCAUC:  0.910256834306\n",
      "             precision    recall  f1-score   support\n",
      "\n",
      "          0       0.96      0.97      0.97       956\n",
      "          1       0.88      0.85      0.87       253\n",
      "\n",
      "avg / total       0.94      0.95      0.95      1209\n",
      "\n",
      "[[928  28]\n",
      " [ 38 215]]\n"
     ]
    }
   ],
   "source": [
    "model_logreg = model.best_estimator_.fit(X_train,y_train)\n",
    "pred = model_logreg.predict(X_test)\n",
    "print 'Accuracy: ',accuracy_score(y_test,pred)\n",
    "print 'ROCAUC: ',roc_auc_score(y_test,pred)\n",
    "print classification_report(y_test,pred)\n",
    "print confusion_matrix(y_test,pred)"
   ]
  },
  {
   "cell_type": "markdown",
   "metadata": {},
   "source": [
    "The above analysis demonstrated that by using Grid Search we sucessfully find a better parameter to fit the model. The penalty is set to be 'l1'. This has a very similar effect comparing with Lasso when regression analysis is performed. L1 regularisation has a penalty term related to the absolute values of the coefficients. Like Lasso it is also possible to set coefficients of certain features to 0 which can be considered as automatic feature selection. In Scikit Learn implementaion the penalty term is denoted by a prameter named 'C'. It is inversely proportional to the regularisation coefficient alpha. This means that as 'C' gets larger, alpha gets smaller i.e. less regularisation is applied. Grid Search returned a 'C' value of 10 which is higher than default. This means that for this problem a lower regularisation seems to be beneficial.\n",
    "\n",
    "The following section demonstates the use of other classifiers and their default parameters as comparisons. "
   ]
  },
  {
   "cell_type": "code",
   "execution_count": 42,
   "metadata": {
    "collapsed": false
   },
   "outputs": [
    {
     "name": "stdout",
     "output_type": "stream",
     "text": [
      "Accuracy:  0.880893300248\n",
      "ROCAUC:  0.801158069691\n",
      "             precision    recall  f1-score   support\n",
      "\n",
      "          0       0.91      0.94      0.93       956\n",
      "          1       0.74      0.66      0.70       253\n",
      "\n",
      "avg / total       0.88      0.88      0.88      1209\n",
      "\n",
      "[[897  59]\n",
      " [ 85 168]]\n"
     ]
    }
   ],
   "source": [
    "knn = KNeighborsClassifier()\n",
    "model = knn.fit(X_train,y_train)\n",
    "pred = model.predict(X_test)\n",
    "print 'Accuracy: ',accuracy_score(y_test,pred)\n",
    "print 'ROCAUC: ',roc_auc_score(y_test,pred)\n",
    "print classification_report(y_test,pred)\n",
    "print confusion_matrix(y_test,pred)"
   ]
  },
  {
   "cell_type": "code",
   "execution_count": 36,
   "metadata": {
    "collapsed": false
   },
   "outputs": [
    {
     "name": "stdout",
     "output_type": "stream",
     "text": [
      "Accuracy:  0.916459884202\n",
      "ROCAUC:  0.871605586518\n",
      "             precision    recall  f1-score   support\n",
      "\n",
      "          0       0.95      0.95      0.95       956\n",
      "          1       0.80      0.79      0.80       253\n",
      "\n",
      "avg / total       0.92      0.92      0.92      1209\n",
      "\n",
      "[[907  49]\n",
      " [ 52 201]]\n"
     ]
    }
   ],
   "source": [
    "dt = DecisionTreeClassifier()\n",
    "model = dt.fit(X_train,y_train)\n",
    "pred = model.predict(X_test)\n",
    "print 'Accuracy: ',accuracy_score(y_test,pred)\n",
    "print 'ROCAUC: ',roc_auc_score(y_test,pred)\n",
    "print classification_report(y_test,pred)\n",
    "print confusion_matrix(y_test,pred)"
   ]
  },
  {
   "cell_type": "code",
   "execution_count": 37,
   "metadata": {
    "collapsed": false
   },
   "outputs": [
    {
     "name": "stdout",
     "output_type": "stream",
     "text": [
      "Accuracy:  0.941273779983\n",
      "ROCAUC:  0.894562323251\n",
      "             precision    recall  f1-score   support\n",
      "\n",
      "          0       0.95      0.97      0.96       956\n",
      "          1       0.90      0.81      0.85       253\n",
      "\n",
      "avg / total       0.94      0.94      0.94      1209\n",
      "\n",
      "[[932  24]\n",
      " [ 47 206]]\n"
     ]
    }
   ],
   "source": [
    "rf = RandomForestClassifier()\n",
    "model = rf.fit(X_train,y_train)\n",
    "pred = model.predict(X_test)\n",
    "print 'Accuracy: ',accuracy_score(y_test,pred)\n",
    "print 'ROCAUC: ',roc_auc_score(y_test,pred)\n",
    "print classification_report(y_test,pred)\n",
    "print confusion_matrix(y_test,pred)"
   ]
  },
  {
   "cell_type": "code",
   "execution_count": 38,
   "metadata": {
    "collapsed": false
   },
   "outputs": [
    {
     "name": "stdout",
     "output_type": "stream",
     "text": [
      "Accuracy:  0.939619520265\n",
      "ROCAUC:  0.896422842211\n",
      "             precision    recall  f1-score   support\n",
      "\n",
      "          0       0.95      0.97      0.96       956\n",
      "          1       0.88      0.82      0.85       253\n",
      "\n",
      "avg / total       0.94      0.94      0.94      1209\n",
      "\n",
      "[[928  28]\n",
      " [ 45 208]]\n"
     ]
    }
   ],
   "source": [
    "ab = AdaBoostClassifier()\n",
    "model = ab.fit(X_train,y_train)\n",
    "pred = model.predict(X_test)\n",
    "print 'Accuracy: ',accuracy_score(y_test,pred)\n",
    "print 'ROCAUC: ',roc_auc_score(y_test,pred)\n",
    "print classification_report(y_test,pred)\n",
    "print confusion_matrix(y_test,pred)"
   ]
  },
  {
   "cell_type": "code",
   "execution_count": 39,
   "metadata": {
    "collapsed": false
   },
   "outputs": [
    {
     "name": "stdout",
     "output_type": "stream",
     "text": [
      "Accuracy:  0.943755169562\n",
      "ROCAUC:  0.900491177006\n",
      "             precision    recall  f1-score   support\n",
      "\n",
      "          0       0.95      0.97      0.96       956\n",
      "          1       0.90      0.83      0.86       253\n",
      "\n",
      "avg / total       0.94      0.94      0.94      1209\n",
      "\n",
      "[[932  24]\n",
      " [ 44 209]]\n"
     ]
    }
   ],
   "source": [
    "et = ExtraTreesClassifier()\n",
    "model = et.fit(X_train,y_train)\n",
    "pred = model.predict(X_test)\n",
    "print 'Accuracy: ',accuracy_score(y_test,pred)\n",
    "print 'ROCAUC: ',roc_auc_score(y_test,pred)\n",
    "print classification_report(y_test,pred)\n",
    "print confusion_matrix(y_test,pred)"
   ]
  },
  {
   "cell_type": "code",
   "execution_count": 40,
   "metadata": {
    "collapsed": false
   },
   "outputs": [
    {
     "name": "stdout",
     "output_type": "stream",
     "text": [
      "Accuracy:  0.947063688999\n",
      "ROCAUC:  0.906943043313\n",
      "             precision    recall  f1-score   support\n",
      "\n",
      "          0       0.96      0.98      0.97       956\n",
      "          1       0.90      0.84      0.87       253\n",
      "\n",
      "avg / total       0.95      0.95      0.95      1209\n",
      "\n",
      "[[933  23]\n",
      " [ 41 212]]\n"
     ]
    }
   ],
   "source": [
    "gb = GradientBoostingClassifier()\n",
    "model = gb.fit(X_train,y_train)\n",
    "pred = model.predict(X_test)\n",
    "print 'Accuracy: ',accuracy_score(y_test,pred)\n",
    "print 'ROCAUC: ',roc_auc_score(y_test,pred)\n",
    "print classification_report(y_test,pred)\n",
    "print confusion_matrix(y_test,pred)"
   ]
  },
  {
   "cell_type": "code",
   "execution_count": 41,
   "metadata": {
    "collapsed": false
   },
   "outputs": [
    {
     "name": "stdout",
     "output_type": "stream",
     "text": [
      "Accuracy:  0.795698924731\n",
      "ROCAUC:  0.535110060033\n",
      "             precision    recall  f1-score   support\n",
      "\n",
      "          0       0.80      0.98      0.88       956\n",
      "          1       0.58      0.09      0.15       253\n",
      "\n",
      "avg / total       0.76      0.80      0.73      1209\n",
      "\n",
      "[[940  16]\n",
      " [231  22]]\n"
     ]
    }
   ],
   "source": [
    "sv = SVC()\n",
    "model = sv.fit(X_train,y_train)\n",
    "pred = model.predict(X_test)\n",
    "print 'Accuracy: ',accuracy_score(y_test,pred)\n",
    "print 'ROCAUC: ',roc_auc_score(y_test,pred)\n",
    "print classification_report(y_test,pred)\n",
    "print confusion_matrix(y_test,pred)"
   ]
  },
  {
   "cell_type": "markdown",
   "metadata": {},
   "source": [
    "The brief analysis above shows that ensemble methods do have a significant edge in this calssification problem. By look at the performance of the ensebles, it is possible to say that they are on par with the tuned Logistic Regression. Therefore it is decided that Grid Search will be used to further enhance those models."
   ]
  },
  {
   "cell_type": "code",
   "execution_count": 47,
   "metadata": {
    "collapsed": false
   },
   "outputs": [
    {
     "name": "stdout",
     "output_type": "stream",
     "text": [
      "Best parameters:  {'min_samples_split': 5, 'n_estimators': 1000}\n",
      "Best accuracy:  0.956971452213\n"
     ]
    }
   ],
   "source": [
    "params = {'n_estimators':[100,1000], 'min_samples_split':[2,5,8]}\n",
    "model = GridSearchCV(rf,params,cv=10, n_jobs=2).fit(X_train,y_train)\n",
    "print 'Best parameters: ',model.best_params_\n",
    "print 'Best accuracy: ',model.best_score_"
   ]
  },
  {
   "cell_type": "code",
   "execution_count": 48,
   "metadata": {
    "collapsed": false
   },
   "outputs": [
    {
     "name": "stdout",
     "output_type": "stream",
     "text": [
      "Accuracy:  0.955334987593\n",
      "ROCAUC:  0.92525261713\n",
      "             precision    recall  f1-score   support\n",
      "\n",
      "          0       0.97      0.98      0.97       956\n",
      "          1       0.91      0.87      0.89       253\n",
      "\n",
      "avg / total       0.95      0.96      0.96      1209\n",
      "\n",
      "[[934  22]\n",
      " [ 32 221]]\n"
     ]
    }
   ],
   "source": [
    "optimised_rf = model.best_estimator_.fit(X_train, y_train)\n",
    "pred = optimised_rf.predict(X_test)\n",
    "print 'Accuracy: ',accuracy_score(y_test,pred)\n",
    "print 'ROCAUC: ',roc_auc_score(y_test,pred)\n",
    "print classification_report(y_test,pred)\n",
    "print confusion_matrix(y_test,pred)"
   ]
  },
  {
   "cell_type": "code",
   "execution_count": 9,
   "metadata": {
    "collapsed": false
   },
   "outputs": [],
   "source": [
    "from ricky_custom import plot_confusion_matrix"
   ]
  },
  {
   "cell_type": "code",
   "execution_count": 10,
   "metadata": {
    "collapsed": false
   },
   "outputs": [
    {
     "data": {
      "image/png": "[encoded data removed]",
      "text/plain": [
       "<matplotlib.figure.Figure at 0x103f18650>"
      ]
     },
     "metadata": {},
     "output_type": "display_data"
    }
   ],
   "source": [
    "plot_confusion_matrix(confusion_matrix(y_test,pred), classes=optimised_rf.classes_)"
   ]
  },
  {
   "cell_type": "code",
   "execution_count": 12,
   "metadata": {
    "collapsed": false
   },
   "outputs": [
    {
     "data": {
      "image/png": "[encoded data removed]",
      "text/plain": [
       "<matplotlib.figure.Figure at 0x118c3bc90>"
      ]
     },
     "metadata": {},
     "output_type": "display_data"
    }
   ],
   "source": [
    "from ricky_custom import plot_roc\n",
    "plot_roc(y_test,optimised_rf.predict_proba(X_test)[:.1])"
   ]
  },
  {
   "cell_type": "code",
   "execution_count": null,
   "metadata": {
    "collapsed": true
   },
   "outputs": [],
   "source": []
  }
 ],
 "metadata": {
  "kernelspec": {
   "display_name": "Python 2",
   "language": "python",
   "name": "python2"
  },
  "language_info": {
   "codemirror_mode": {
    "name": "ipython",
    "version": 2
   },
   "file_extension": ".py",
   "mimetype": "text/x-python",
   "name": "python",
   "nbconvert_exporter": "python",
   "pygments_lexer": "ipython2",
   "version": "2.7.12"
  }
 },
 "nbformat": 4,
 "nbformat_minor": 0
}
